{
 "cells": [
  {
   "cell_type": "markdown",
   "id": "377fe6dd",
   "metadata": {},
   "source": [
    "### Data Ingestion\n"
   ]
  },
  {
   "cell_type": "code",
   "execution_count": 2,
   "id": "435984cc",
   "metadata": {},
   "outputs": [],
   "source": [
    "from langchain_core.documents import Document"
   ]
  },
  {
   "cell_type": "code",
   "execution_count": 3,
   "id": "23d951b1",
   "metadata": {},
   "outputs": [],
   "source": [
    "doc = Document(\n",
    "    page_content=\"Main text content i am using to make the RAG\",\n",
    "    metadata={\n",
    "        \"source\": \"example.txt\",\n",
    "        \"author\": \"Akshat\",\n",
    "        \"page\": 1,\n",
    "        \"date_created\": \"2025-10-01\",\n",
    "        })"
   ]
  },
  {
   "cell_type": "code",
   "execution_count": 4,
   "id": "a1bd94fe",
   "metadata": {},
   "outputs": [
    {
     "data": {
      "text/plain": [
       "Document(metadata={'source': 'example.txt', 'author': 'Akshat', 'page': 1, 'date_created': '2025-10-01'}, page_content='Main text content i am using to make the RAG')"
      ]
     },
     "execution_count": 4,
     "metadata": {},
     "output_type": "execute_result"
    }
   ],
   "source": [
    "doc"
   ]
  },
  {
   "cell_type": "code",
   "execution_count": 5,
   "id": "35d1cb99",
   "metadata": {},
   "outputs": [],
   "source": [
    "## creating a txt file to test the document class\n",
    "\n",
    "import os\n",
    "os.makedirs(\"../data/text_files\", exist_ok=True)"
   ]
  },
  {
   "cell_type": "code",
   "execution_count": 6,
   "id": "a7372834",
   "metadata": {},
   "outputs": [
    {
     "name": "stdout",
     "output_type": "stream",
     "text": [
      "✅ Sample text files created!\n"
     ]
    }
   ],
   "source": [
    "sample_texts={\n",
    "    \"../data/text_files/python_intro.txt\":\"\"\"Python Programming Introduction\n",
    "\n",
    "Python is a high-level, interpreted programming language known for its simplicity and readability.\n",
    "Created by Guido van Rossum and first released in 1991, Python has become one of the most popular\n",
    "programming languages in the world.\n",
    "\n",
    "Key Features:\n",
    "- Easy to learn and use\n",
    "- Extensive standard library\n",
    "- Cross-platform compatibility\n",
    "- Strong community support\n",
    "\n",
    "Python is widely used in web development, data science, artificial intelligence, and automation.\"\"\",\n",
    "    \n",
    "    \"../data/text_files/machine_learning.txt\": \"\"\"Machine Learning Basics\n",
    "\n",
    "Machine learning is a subset of artificial intelligence that enables systems to learn and improve\n",
    "from experience without being explicitly programmed. It focuses on developing computer programs\n",
    "that can access data and use it to learn for themselves.\n",
    "\n",
    "Types of Machine Learning:\n",
    "1. Supervised Learning: Learning with labeled data\n",
    "2. Unsupervised Learning: Finding patterns in unlabeled data\n",
    "3. Reinforcement Learning: Learning through rewards and penalties\n",
    "\n",
    "Applications include image recognition, speech processing, and recommendation systems\n",
    "    \n",
    "    \n",
    "    \"\"\"\n",
    "\n",
    "}\n",
    "\n",
    "for filepath,content in sample_texts.items():\n",
    "    with open(filepath,'w',encoding=\"utf-8\") as f:\n",
    "        f.write(content)\n",
    "\n",
    "print(\"✅ Sample text files created!\")"
   ]
  },
  {
   "cell_type": "code",
   "execution_count": 8,
   "id": "cf3473f0",
   "metadata": {},
   "outputs": [
    {
     "name": "stdout",
     "output_type": "stream",
     "text": [
      "[Document(metadata={'source': '../data/text_files/python_intro.txt'}, page_content='Python Programming Introduction\\n\\nPython is a high-level, interpreted programming language known for its simplicity and readability.\\nCreated by Guido van Rossum and first released in 1991, Python has become one of the most popular\\nprogramming languages in the world.\\n\\nKey Features:\\n- Easy to learn and use\\n- Extensive standard library\\n- Cross-platform compatibility\\n- Strong community support\\n\\nPython is widely used in web development, data science, artificial intelligence, and automation.')]\n"
     ]
    }
   ],
   "source": [
    "### Reading the files using textLoaded \n",
    "\n",
    "from langchain.document_loaders import TextLoader\n",
    "from langchain_community.document_loaders import TextLoader\n",
    "\n",
    "loader = TextLoader(\"../data/text_files/python_intro.txt\", encoding=\"utf-8\")\n",
    "data = loader.load()\n",
    "print(data)"
   ]
  },
  {
   "cell_type": "code",
   "execution_count": 11,
   "id": "762e1a12",
   "metadata": {},
   "outputs": [
    {
     "name": "stderr",
     "output_type": "stream",
     "text": [
      "100%|██████████| 2/2 [00:00<00:00, 1294.34it/s]"
     ]
    },
    {
     "name": "stdout",
     "output_type": "stream",
     "text": [
      "[Document(metadata={'source': '..\\\\data\\\\text_files\\\\machine_learning.txt'}, page_content='Machine Learning Basics\\n\\nMachine learning is a subset of artificial intelligence that enables systems to learn and improve\\nfrom experience without being explicitly programmed. It focuses on developing computer programs\\nthat can access data and use it to learn for themselves.\\n\\nTypes of Machine Learning:\\n1. Supervised Learning: Learning with labeled data\\n2. Unsupervised Learning: Finding patterns in unlabeled data\\n3. Reinforcement Learning: Learning through rewards and penalties\\n\\nApplications include image recognition, speech processing, and recommendation systems\\n\\n\\n    '), Document(metadata={'source': '..\\\\data\\\\text_files\\\\python_intro.txt'}, page_content='Python Programming Introduction\\n\\nPython is a high-level, interpreted programming language known for its simplicity and readability.\\nCreated by Guido van Rossum and first released in 1991, Python has become one of the most popular\\nprogramming languages in the world.\\n\\nKey Features:\\n- Easy to learn and use\\n- Extensive standard library\\n- Cross-platform compatibility\\n- Strong community support\\n\\nPython is widely used in web development, data science, artificial intelligence, and automation.')]\n"
     ]
    },
    {
     "name": "stderr",
     "output_type": "stream",
     "text": [
      "\n"
     ]
    }
   ],
   "source": [
    "### Directory loader\n",
    "\n",
    "from langchain_community.document_loaders import DirectoryLoader\n",
    "\n",
    "dir_loader = DirectoryLoader(\"../data/text_files\", glob=\"**/*.txt\", loader_cls=TextLoader, loader_kwargs={\"encoding\":\"utf-8\"}, show_progress=True)\n",
    "dir_data = dir_loader.load()\n",
    "print(dir_data)"
   ]
  },
  {
   "cell_type": "code",
   "execution_count": 14,
   "id": "66d2b553",
   "metadata": {},
   "outputs": [
    {
     "name": "stderr",
     "output_type": "stream",
     "text": [
      "100%|██████████| 2/2 [00:00<00:00, 19.00it/s]"
     ]
    },
    {
     "name": "stdout",
     "output_type": "stream",
     "text": [
      "[Document(metadata={'producer': 'Skia/PDF m136 Google Docs Renderer', 'creator': '', 'creationdate': '', 'source': '..\\\\data\\\\pdf\\\\Akshat Tyagi Final Internship Report 8th Sem.pdf', 'file_path': '..\\\\data\\\\pdf\\\\Akshat Tyagi Final Internship Report 8th Sem.pdf', 'total_pages': 17, 'format': 'PDF 1.4', 'title': 'Akshat Tyagi Final Internship Report 8th Sem', 'author': '', 'subject': '', 'keywords': '', 'moddate': '', 'trapped': '', 'modDate': '', 'creationDate': '', 'page': 0}, page_content='Professional and Practical Internship Report \\nSubmitted in partial fulfillment of the requirements for the award of \\nthe \\nBachelor of Technology in \\nSchool of Computer Science, Engineering & Technology \\nBennett University \\n \\n \\nBy \\n \\nAkshat Tyagi \\nRoll Number: E21CSEU0165'), Document(metadata={'producer': 'Skia/PDF m136 Google Docs Renderer', 'creator': '', 'creationdate': '', 'source': '..\\\\data\\\\pdf\\\\Akshat Tyagi Final Internship Report 8th Sem.pdf', 'file_path': '..\\\\data\\\\pdf\\\\Akshat Tyagi Final Internship Report 8th Sem.pdf', 'total_pages': 17, 'format': 'PDF 1.4', 'title': 'Akshat Tyagi Final Internship Report 8th Sem', 'author': '', 'subject': '', 'keywords': '', 'moddate': '', 'trapped': '', 'modDate': '', 'creationDate': '', 'page': 1}, page_content=\"INTERNSHIP FINAL REPORT \\nSafe Delivery App Backend Development and CMS Integration \\n\\u200b\\n \\nDECLARATION \\n \\nI, Akshat Tyagi, enrollment ID E21CSEU0165, hereby declare that the internship report titled “Professional \\nand Practical Internship Report” is my original work and has been doing during my internship as a \\nSoftware Engineering Intern at AFI Digital Services. I confirm that the work presented in this report is a result \\nof my effort and learning during the internship. The data, results, and analysis in this report are accurate to the \\nbest of my knowledge and have not been copied from any other source or submitted elsewhere for the award \\nof any degree or diploma. \\n\\xa0I acknowledge the guidance and support provided by my CEO at AFI, and my faculty mentors at Bennett \\nUniversity in successfully working in this internship and the associated report. \\n \\n \\nACKNOWLEDGMENT 🙏 \\n \\nI would like to extend my heartfelt gratitude to all those who supported and guided me throughout my \\ninternship journey. \\nFirst and foremost, I would like to express my sincere appreciation to my mentors at AFI Digital Services— \\nMr. Mohit Sir and Mr. Vikrant Sir. Their constant encouragement, insightful guidance, and expert advice \\nhave been invaluable in shaping my learning and experience during this internship. Their mentorship has not \\nonly enhanced my technical skills but also contributed significantly to my personal and professional growth. \\nI would also like to thank my college for their unwavering support in helping me secure this internship as soon \\nas possible. Their continuous encouragement has played a vital role in allowing me to pursue this opportunity \\nand gain hands-on experience in the industry. \\nThis internship has been an exceptional opportunity to experience a unique mix of corporate culture and \\nstartup environment. It has broadened my understanding of the latest technologies and industry best practices, \\nproviding me with a holistic perspective on the tech world. I am grateful for all these experiences and will \\ncarry them forward in my career. \\nLastly, I am deeply thankful to all those who have played a part in my journey, making this experience not \\nonly memorable but also enriching. \\n \\nCERTIFICATE \\n \\nThis is to certify that Mr Akshat Tyagi, Roll Number: E21CSEU0165 has been doing this internship as a \\nSoftware Engineering Intern at AFI Digital Services from 20/12/2024 - ongoing.  \\nAkshat's journey with us was marked by an impressive blend of eagerness to absorb knowledge and a genuine \\ncommitment to his work.  \\nHe wasn't just participating in projects; he was actively shaping them with his technical acumen, sharp \\nproblem-solving instincts, and a solid understanding of problem solving and software crafting, and how \\nsystems connect. Under the expert guidance of Mr. Mohit Mathur and Mr. Vikrant Singh, Akshat immersed \\nhimself in cutting-edge technologies, becoming a vital force in our continuous drive to build and launch \\ngroundbreaking software solutions. His forward-thinking approach, unwavering dedication, and remarkable \\ncapacity to flourish in our energetic startup culture truly set him apart. Time and again, Akshat delivered \\nexceptional results, always coupled with outstanding collaborative spirit and clear communication, qualities \\nthat were indispensable to the triumphs of his projects. We are confident that Akshat's experience at AFI \\nDigital Services has forged a robust launchpad for a promising and impactful career. We eagerly anticipate \\nwitnessing his future successes and extend our warmest wishes for his professional endeavors.\"), Document(metadata={'producer': 'Skia/PDF m136 Google Docs Renderer', 'creator': '', 'creationdate': '', 'source': '..\\\\data\\\\pdf\\\\Akshat Tyagi Final Internship Report 8th Sem.pdf', 'file_path': '..\\\\data\\\\pdf\\\\Akshat Tyagi Final Internship Report 8th Sem.pdf', 'total_pages': 17, 'format': 'PDF 1.4', 'title': 'Akshat Tyagi Final Internship Report 8th Sem', 'author': '', 'subject': '', 'keywords': '', 'moddate': '', 'trapped': '', 'modDate': '', 'creationDate': '', 'page': 2}, page_content='Date: 13/04/2025\\xa0 \\nVikrant Singh, \\nAFI Digital Services \\n\\u200b\\n\\u200b\\n \\nTable of Contents 📑 \\n●\\u200b Executive Summary \\n●\\u200b Overview of the Internship \\n●\\u200b Key Responsibilities \\n●\\u200b Summary of Outcomes \\n●\\u200b Introduction \\n●\\u200b About the Organization \\n●\\u200b Project Background \\n●\\u200b Goals and Objectives \\n●\\u200b Initial Backend Work: Safe Delivery App (Phase 1) \\n●\\u200b Tech Stack: Node.js, TypeScript \\n●\\u200b Microservices and Certificate Generation \\n●\\u200b API Development and ctx.body Handling \\n●\\u200b Multi-language Media Support & Azure Blob Integration \\n●\\u200b CMS Migration Research: Umbraco Exploration \\n●\\u200b Reasons for Migration \\n●\\u200b Feasibility and Recommendations \\n●\\u200b DevOps & Deployment \\n●\\u200b Dockerization of Services \\n●\\u200b Azure Deployment Strategy \\n●\\u200b Setting Up Azure Web App as Proxy for Ngrok \\n●\\u200b Production-Level Redevelopment: Safe Delivery CMS (Phase 2) \\n●\\u200b Moving to FastAPI + SQLModel \\n●\\u200b PostgreSQL Integration with Async Operations \\n●\\u200b Project Structure & Application Lifespan Events \\n●\\u200b Middleware, Logging, and Error Handling \\n●\\u200b Database Design & ER Modeling \\n●\\u200b Introduction to ERD for Safe Delivery App \\n●\\u200b IAM Design: Users, Roles, Permissions \\n●\\u200b Mermaid Diagrams and Relationships \\n●\\u200b Final DB Schema Design \\n●\\u200b Challenges & Solutions \\n●\\u200b Understanding Large Legacy Codebases \\n●\\u200b Bridging Communication Between Frontend and Backend Teams \\n●\\u200b Real-world Debugging and Troubleshooting \\n●\\u200b Conclusion \\n●\\u200b Internship Takeaways \\n●\\u200b Skills Gained \\n●\\u200b Future Scope and Contribution Plans \\n●\\u200b References \\n●\\u200b Tools and Technologies Used \\n●\\u200b Documentation and Learning Resources \\n●\\u200b Appendices \\n●\\u200b A. ERD Diagrams (Mermaid & Schema Snapshots)'), Document(metadata={'producer': 'Skia/PDF m136 Google Docs Renderer', 'creator': '', 'creationdate': '', 'source': '..\\\\data\\\\pdf\\\\Akshat Tyagi Final Internship Report 8th Sem.pdf', 'file_path': '..\\\\data\\\\pdf\\\\Akshat Tyagi Final Internship Report 8th Sem.pdf', 'total_pages': 17, 'format': 'PDF 1.4', 'title': 'Akshat Tyagi Final Internship Report 8th Sem', 'author': '', 'subject': '', 'keywords': '', 'moddate': '', 'trapped': '', 'modDate': '', 'creationDate': '', 'page': 3}, page_content='●\\u200b B. Code Snippets (Selected API/Model Examples) \\n●\\u200b C. Deployment Architecture (Visual Diagrams) \\n●\\u200b Project Summaries \\n●\\u200b Project 1: Safe Delivery App – Backend Enhancements \\n●\\u200b Project 2: CMS Migration Research & Evaluation \\n●\\u200b Project 3: Stable Web App Proxy for Ngrok-Based Backend \\n●\\u200b Project 4: Backend Development with FastAPI, PostgreSQL & IAM \\n●\\u200b Project 5: Backend Redevelopment for Safe Delivery CMS \\n \\n1. Executive Summary 📊 \\n1.1 Overview of the Internship \\nThe internship was focused on the Safe Delivery App for midwives and nurses, a system designed to provide \\ncertifications after completing various educational modules. The role encompassed backend development, API \\ncreation, database design, migration research, deployment strategies, and DevOps. The project required \\nhands-on experience in backend technologies such as Node.js, TypeScript, FastAPI, PostgreSQL, and cloud \\nservices like Azure. \\n \\n1.2 Key Responsibilities 💻 \\n●\\u200b Develop backend APIs using Node.js and TypeScript \\n●\\u200b Perform database schema design and optimization with PostgreSQL \\n●\\u200b Implement multi-language support for content using i18n \\n●\\u200b Explore CMS options for migration from Umbraco to Strapi \\n●\\u200b Work on deployment automation using Azure and Docker \\n●\\u200b Handle data synchronization between front-end and back-end \\n \\n1.3 Summary of Outcomes \\nThe project achieved successful integration of the backend with the frontend, migration research for CMS, and \\ndeployment of scalable microservices. Key results included the creation of role-based authentication, \\nmulti-language content delivery, and optimization of Azure Blob Storage for managing large files. \\n \\n2. Introduction 🌟 \\n2.1 About the Organization \\nThe internship was with a company developing a Safe Delivery App aimed at offering healthcare \\ncertifications to midwives and nurses. The app serves users in 47 different languages, which requires robust \\nbackend systems and data synchronization. \\n \\n2.2 Project Background \\nThe main objective was to migrate the Safe Delivery App to a more scalable and efficient backend \\ninfrastructure, as well as to integrate multi-language content delivery through Azure. Additionally, the project \\naimed to ensure smoother deployment pipelines and reduce technical debt by revisiting legacy systems. \\n \\n2.3 Goals and Objectives 🎯 \\n●\\u200b Migrate the backend services to modern tech stacks such as FastAPI and SQLModel \\n●\\u200b Improve database performance and scalability through PostgreSQL \\n●\\u200b Migrate content management from Umbraco to Strapi \\n●\\u200b Set up Azure services for deployment, storage, and continuous integration \\n●\\u200b Build efficient APIs for handling certifications, language support, and media content \\n \\n3. Initial Backend Work: Safe Delivery App (Phase 1) 🔨 \\n \\n3.1 Tech Stack: Node.js, TypeScript \\nThe initial phase focused on backend development using Node.js with TypeScript for creating a robust,'), Document(metadata={'producer': 'Skia/PDF m136 Google Docs Renderer', 'creator': '', 'creationdate': '', 'source': '..\\\\data\\\\pdf\\\\Akshat Tyagi Final Internship Report 8th Sem.pdf', 'file_path': '..\\\\data\\\\pdf\\\\Akshat Tyagi Final Internship Report 8th Sem.pdf', 'total_pages': 17, 'format': 'PDF 1.4', 'title': 'Akshat Tyagi Final Internship Report 8th Sem', 'author': '', 'subject': '', 'keywords': '', 'moddate': '', 'trapped': '', 'modDate': '', 'creationDate': '', 'page': 4}, page_content=\"type-safe environment. The APIs were designed to handle user data, certification tracking, and media files \\n(videos/images) in multiple languages. \\n \\n3.2 Microservices and Certificate Generation \\nThe backend used microservices architecture for modular scalability. A specific microservice was dedicated to \\ngenerating certificates for users after completing the educational modules. \\n \\n3.3 API Development and ctx.body Handling \\nAPIs were developed to handle certificate generation requests. The ctx.body parameter was used to manage \\nrequest and response bodies, ensuring that the correct data was processed and certificates were generated \\ndynamically. \\n \\n3.4 Multi-language Media Support & Azure Blob Integration \\nSupport for 47 languages was implemented by storing media files in Azure Blob Storage, categorized by \\nlanguage. The system ensured that users could download content in their preferred language, with Azure's \\nglobal CDN used to enhance performance. \\n \\n4. CMS Migration Research: Umbraco Exploration 🔍 \\n \\n4.1 Reasons for Migration \\nThe decision to migrate from Umbraco CMS was driven by the need for a more flexible and scalable content \\nmanagement system. Strapi was chosen for its ease of use, API-first architecture, and JavaScript compatibility. \\n \\n4.2 Comparative Study: Umbraco vs. Strapi 📊 \\n●\\u200b Umbraco was primarily used for content management but had limitations in API-first development, \\nwhereas Strapi offered an API-centric architecture with better support for modern technologies. \\n●\\u200b Strapi provided greater flexibility, was easier to integrate with the current tech stack, and offered \\nenhanced multi-language support. \\n \\n4.3 Feasibility and Recommendations \\nMigrating from Umbraco to Strapi was deemed feasible, with Strapi's advantages in managing dynamic \\ncontent and integrating with modern backends like Node.js and FastAPI. \\n \\n5. DevOps & Deployment 🚀 \\n \\n5.1 Dockerization of Services \\nDocker was used to containerize microservices, ensuring portability and consistency across development, \\ntesting, and production environments. \\n \\n5.2 Azure Deployment Strategy \\nThe project utilized Azure Web App for hosting and Azure DevOps for CI/CD. This approach allowed easy \\nscaling and high availability while ensuring smooth deployment across different environments. \\n \\n5.3 Setting Up Azure Web App as Proxy for Ngrok \\nAn Azure Web App was set up to act as a proxy for the Ngrok link, enabling the front-end team in Denmark to \\naccess the development environment using a stable URL instead of having to update the Ngrok link daily. \\n \\n6. Production-Level Redevelopment: Safe Delivery CMS (Phase 2) ⚙️ \\n \\n6.1 Moving to FastAPI + SQLModel \\nThe backend was migrated from Node.js/Express to FastAPI for faster performance and easier management of \\nasynchronous tasks. SQLModel was used for database interactions.\"), Document(metadata={'producer': 'Skia/PDF m136 Google Docs Renderer', 'creator': '', 'creationdate': '', 'source': '..\\\\data\\\\pdf\\\\Akshat Tyagi Final Internship Report 8th Sem.pdf', 'file_path': '..\\\\data\\\\pdf\\\\Akshat Tyagi Final Internship Report 8th Sem.pdf', 'total_pages': 17, 'format': 'PDF 1.4', 'title': 'Akshat Tyagi Final Internship Report 8th Sem', 'author': '', 'subject': '', 'keywords': '', 'moddate': '', 'trapped': '', 'modDate': '', 'creationDate': '', 'page': 5}, page_content='6.2 PostgreSQL Integration with Async Operations \\nPostgreSQL was integrated with FastAPI, utilizing its async capabilities to handle high throughput and reduce \\nlatency. \\n \\n6.3 Project Structure & Application Lifespan Events \\nThe project structure was modular, with clear separation of concerns between API routing, services, and \\nmodels. Lifespan events were used for managing DB connections and startup/shutdown tasks. \\n \\n6.4 Middleware, Logging, and Error Handling \\nMiddleware was implemented for logging and error handling, ensuring all issues were captured for easy \\ntroubleshooting. \\n \\n7. Database Design & ER Modeling 🗄️ \\n \\n7.1 Introduction to ERD for redevelopment of Safe Delivery App \\nThe Entity-Relationship Diagram (ERD) was designed to model relationships between users, roles, \\npermissions, and other entities.'), Document(metadata={'producer': 'Skia/PDF m136 Google Docs Renderer', 'creator': '', 'creationdate': '', 'source': '..\\\\data\\\\pdf\\\\Akshat Tyagi Final Internship Report 8th Sem.pdf', 'file_path': '..\\\\data\\\\pdf\\\\Akshat Tyagi Final Internship Report 8th Sem.pdf', 'total_pages': 17, 'format': 'PDF 1.4', 'title': 'Akshat Tyagi Final Internship Report 8th Sem', 'author': '', 'subject': '', 'keywords': '', 'moddate': '', 'trapped': '', 'modDate': '', 'creationDate': '', 'page': 6}, page_content='7.2 IAM Design: Users, Roles, Permissions \\nAn Identity and Access Management (IAM) model was designed using Users, Roles, and UserRoles tables to \\nhandle role-based access control. \\n \\n7.3 Mermaid Diagrams and Relationships \\nMermaid coding diagrams were used to visually represent relationships, aiding communication between devs'), Document(metadata={'producer': 'Skia/PDF m136 Google Docs Renderer', 'creator': '', 'creationdate': '', 'source': '..\\\\data\\\\pdf\\\\Akshat Tyagi Final Internship Report 8th Sem.pdf', 'file_path': '..\\\\data\\\\pdf\\\\Akshat Tyagi Final Internship Report 8th Sem.pdf', 'total_pages': 17, 'format': 'PDF 1.4', 'title': 'Akshat Tyagi Final Internship Report 8th Sem', 'author': '', 'subject': '', 'keywords': '', 'moddate': '', 'trapped': '', 'modDate': '', 'creationDate': '', 'page': 7}, page_content='and stakeholders.\\xa0 \\n \\n7.4 Final DB Schema Design \\nThe final database schema was optimized for performance, ensuring efficient CRUD operations and data \\nintegrity. \\n \\n8. Challenges & Solutions 🔧 \\n \\n8.1 Understanding Large Legacy Codebases \\nWorking with a large legacy codebase was challenging. Documentation and team communication helped \\novercome this. \\n \\n8.2 Bridging Communication Between Frontend and Backend Teams \\nRegular meetings and shared documentation ensure smooth communication and seamless integration.'), Document(metadata={'producer': 'Skia/PDF m136 Google Docs Renderer', 'creator': '', 'creationdate': '', 'source': '..\\\\data\\\\pdf\\\\Akshat Tyagi Final Internship Report 8th Sem.pdf', 'file_path': '..\\\\data\\\\pdf\\\\Akshat Tyagi Final Internship Report 8th Sem.pdf', 'total_pages': 17, 'format': 'PDF 1.4', 'title': 'Akshat Tyagi Final Internship Report 8th Sem', 'author': '', 'subject': '', 'keywords': '', 'moddate': '', 'trapped': '', 'modDate': '', 'creationDate': '', 'page': 8}, page_content=\"8.3 Real-world Debugging and Troubleshooting \\nLive debugging and troubleshooting were key in resolving data sync and content delivery issues. \\n \\n9. Project Summaries 📝 \\nProject 1: Safe Delivery App – Backend Enhancements (Phase 1) \\nSolution Approach 🔍 \\nThe primary objective in the first phase of the internship was to enhance the backend of the Safe Delivery \\nApp, a global health solution used for certifying nurses and midwives. The app provides training modules in \\n47+ languages and awards certificates upon module completion or course completion. \\nKey responsibilities included: \\n🔹 Building microservices for certificate generation \\n🔹 Enhancing media content handling across languages \\n🔹 Designing and developing backend APIs for translation workflows \\n🔹 Integrating the system with Azure Blob Storage to store and retrieve large media assets \\nIssues Faced ⚠️ \\nLack of support for language-specific media on the backend \\nExisting certificate generation logic was hardcoded and not extensible \\nDifficulty in distinguishing module completion from full course certification in the existing data flow \\nMedia URLs were manually updated and not dynamically generated based on language \\nTranslation data was partially handled manually in CMS spreadsheets and not synced with backend \\nSolution Proposed 💡 \\nDesign a translation layer in the backend that interacts with the frontend's selected language \\nCreate a structured API to serve the correct content and media based on module ID, language, and content \\ntype \\nStandardize certificate logic using certbody1 structure and differentiate logic using ctx.body \\nMove all multilingual images and videos to Azure Blob Storage and create dynamic endpoints to retrieve \\nthem \\nCreate utility functions to auto-generate URLs and map them with supported locales \\nAPIs Created for Translation Management 🛠️ \\nGET /translations/modules/:moduleId?lang={language_code} \\nPurpose: Returns all content (text, image, video) for a specific module in the requested language. \\nInput: \\nmoduleId (Path Param) \\nlang (Query Param — ISO format, e.g., en, hi, fr) \\nImplementation Notes: \\nUses a lookup service that fetches mapped Blob URLs from metadata tables or Azure directory structure \\nFallback to English if a translation does not exist for a specific resource \\nGET /certificates/:userId?lang={language_code} \\nPurpose: Generates and returns a personalized certificate in the user's preferred language. \\nOutput Example: \\nA PDF download link hosted on Azure Blob \\nLanguage and certificate type info in the metadata \\nSolution Implemented Till Now ✅ \\nBuilt and deployed all translation APIs in production \\nFully automated translation sync from Strapi CMS to backend \\nAll APIs are documented using Swagger/OpenAPI \\nLanguage fallback logic is tested across 47+ locales \\nIntegrated APIs with frontend so that users see content in their selected language without manual mapping\"), Document(metadata={'producer': 'Skia/PDF m136 Google Docs Renderer', 'creator': '', 'creationdate': '', 'source': '..\\\\data\\\\pdf\\\\Akshat Tyagi Final Internship Report 8th Sem.pdf', 'file_path': '..\\\\data\\\\pdf\\\\Akshat Tyagi Final Internship Report 8th Sem.pdf', 'total_pages': 17, 'format': 'PDF 1.4', 'title': 'Akshat Tyagi Final Internship Report 8th Sem', 'author': '', 'subject': '', 'keywords': '', 'moddate': '', 'trapped': '', 'modDate': '', 'creationDate': '', 'page': 9}, page_content='Conclusion / Reference 📝 \\nThis project laid a strong foundation for localization and internationalization in the Safe Delivery App. The \\ntranslation layer and API-based delivery of localized content drastically improved scalability and reduced \\ndependency on manual workflows. Certificate issuance is now dynamic and language-aware, supporting both \\nmodule-wise and full-course recognition. \\n \\nProject 2: CMS Migration Research & Evaluation – Umbraco vs. Strapi \\nSolution Approach 🔍 \\nAs the Safe Delivery App scaled globally with content in 47+ languages, the previous content management \\nmethod (spreadsheet-based + hardcoded backend references) became inefficient. The organization aimed to \\nadopt a CMS-based architecture that would: \\nAllow non-developer stakeholders to manage content easily \\nSupport multilingual content types — video, images, documents \\nBe API-friendly and compatible with Azure and modern frontend stacks \\nI was assigned the task of researching, comparing, and recommending a suitable open-source CMS. The two \\nplatforms shortlisted were Umbraco (ASP.NET-based) and Strapi (Node.js-based). \\n \\nIssues Faced ⚠️ \\nUmbraco had compatibility issues with our existing tech stack (Node.js + Azure Docker + PostgreSQL) \\nUmbraco required Windows-specific configurations and license costs for key features like multilingual \\nsupport \\nStrapi was newer and lacked detailed documentation for v5 at the time of evaluation \\nAzure Blob integration was not available out of the box in either CMS \\nRequirement to embed CMS content in mobile apps meant the CMS needed to be headless-first \\n \\nSolution Proposed 💡 \\nPerform an in-depth feature comparison between Umbraco and Strapi \\nPrototype both CMS setups and run real-world content ingestion tests \\nEvaluate based on 7 criteria: \\nMultilingual Support \\nRole-based Permissions \\nHeadless & API-first'), Document(metadata={'producer': 'Skia/PDF m136 Google Docs Renderer', 'creator': '', 'creationdate': '', 'source': '..\\\\data\\\\pdf\\\\Akshat Tyagi Final Internship Report 8th Sem.pdf', 'file_path': '..\\\\data\\\\pdf\\\\Akshat Tyagi Final Internship Report 8th Sem.pdf', 'total_pages': 17, 'format': 'PDF 1.4', 'title': 'Akshat Tyagi Final Internship Report 8th Sem', 'author': '', 'subject': '', 'keywords': '', 'moddate': '', 'trapped': '', 'modDate': '', 'creationDate': '', 'page': 10}, page_content='Self-hosting flexibility (Docker) \\nAzure integration \\nMedia handling (large files) \\nLearning curve / Dev experience \\n \\n \\n \\n \\nSolution Implemented Till Now ✅ \\n \\nConclusion of Evaluation \\nStrapi was selected due to: \\nFull open-source license \\nRich support for multilingual content \\nClean REST/GraphQL APIs for mobile integration \\nNode.js-based (same as current backend) \\nAzure-friendly Docker setup'), Document(metadata={'producer': 'Skia/PDF m136 Google Docs Renderer', 'creator': '', 'creationdate': '', 'source': '..\\\\data\\\\pdf\\\\Akshat Tyagi Final Internship Report 8th Sem.pdf', 'file_path': '..\\\\data\\\\pdf\\\\Akshat Tyagi Final Internship Report 8th Sem.pdf', 'total_pages': 17, 'format': 'PDF 1.4', 'title': 'Akshat Tyagi Final Internship Report 8th Sem', 'author': '', 'subject': '', 'keywords': '', 'moddate': '', 'trapped': '', 'modDate': '', 'creationDate': '', 'page': 11}, page_content=\"Conclusion / Reference 📝 \\nThis project was a critical decision-making phase that shaped the next version of the Safe Delivery CMS. \\nAfter prototyping and evaluating both Umbraco and Strapi, we adopted Strapi as the CMS of choice. The \\nresearch allowed seamless coordination with the frontend and backend teams, and directly impacted the API \\narchitecture and content flow. \\n \\n \\nProject 3: Stable Web App Proxy for Ngrok-Based Backend (Safe Delivery App Phase 1) \\nProject Summary 📋 \\nDuring the early development and testing of the Safe Delivery App, the backend APIs were exposed to the \\nfrontend team using ngrok. While ngrok served its purpose for quick local development exposure, it generated \\nnew URLs every time the backend restarted. This created issues for the Denmark QA and frontend teams, who \\nneeded a stable and consistent endpoint for API testing, particularly during certification generation and \\nmodule content validation. \\nSolution Approach 🔍 \\nTo ensure stable and continuous access for the QA and frontend team: \\nI deployed a small Azure Web App that acted as a reverse proxy to the dynamically changing ngrok backend \\nThis Azure Web App was configured with a custom domain and kept live 24/7 \\nEvery time a new ngrok URL was created locally, I would update a proxy variable or endpoint in the Azure \\nWeb App to redirect traffic \\nThis gave the frontend team a stable URL that they could integrate with and test without asking for new URLs \\nevery time. \\n \\nIssues Faced ⚠️ \\nProblem|Impact \\nngrok generates new URLs on each restart|Frontend and QA teams couldn't test reliably \\nCoordination delays|Frequent messages to update endpoint URLs \\nDenmark team worked in a different timezone|Communication delays slowed down testing cycles \\n \\nSolution Proposed 💡 \\nComponent|Description \\nAzure Web App|Simple proxy web app hosted on Azure \\nNode.js/Express|Lightweight backend to reroute traffic to current ngrok URL \\nDynamic Update Logic|Easily configurable redirect URL \\nEnvironment Variable/Config|Mechanism to quickly update the active ngrok URL via .env or remote edit \\n \\nSolution Implemented Till Now ✅ \\nAzure Web App Setup \\nCreated a Linux-based Node.js Azure Web App \\nConfigured basic CI/CD pipeline to auto-deploy updates \\nCustom domain used for consistent endpoint \\nNGROK_URL=https://a1b2c3d4.ngrok.io \\nPORT=3000 \\nOn each restart of ngrok, I would update the NGROK_URL in the .env file and push the change \\nCI/CD auto-deployed the updated proxy with the new route\"), Document(metadata={'producer': 'Skia/PDF m136 Google Docs Renderer', 'creator': '', 'creationdate': '', 'source': '..\\\\data\\\\pdf\\\\Akshat Tyagi Final Internship Report 8th Sem.pdf', 'file_path': '..\\\\data\\\\pdf\\\\Akshat Tyagi Final Internship Report 8th Sem.pdf', 'total_pages': 17, 'format': 'PDF 1.4', 'title': 'Akshat Tyagi Final Internship Report 8th Sem', 'author': '', 'subject': '', 'keywords': '', 'moddate': '', 'trapped': '', 'modDate': '', 'creationDate': '', 'page': 12}, page_content='Frontend Integration 🔄 \\nThe frontend team in Denmark used a single URL for all API calls \\nNo need for frequent updates or Slack pings \\nIt also reduced downtime in integration testing \\n \\nConclusion / Reference 📝 \\nThis quick yet impactful solution bridged the gap between local development constraints and the needs of a \\nglobally distributed QA and frontend team. It allowed for: \\nContinuous testing during critical certification workflows \\nFaster iterations from the frontend without blocking on backend reboots \\nA real-world use case of proxy pattern using Express.js on Azure Web App \\n \\nReferences: \\nNgrok Documentation \\nAzure App Services for Node.js \\nExpress.js Request Proxy \\n \\nProject 4: Backend Development with FastAPI, PostgreSQL & Identity Access Management (IAM) \\nProject Summary 📋 \\nFor the new iteration of the Safe Delivery App, a robust backend was built using FastAPI, SQLModel, and \\nPostgreSQL to integrate a scalable Identity and Access Management (IAM) system. The project was aimed at \\nenabling secure user authentication, authorization, and managing roles and permissions across the platform. \\nKey features included: \\n🔒 JWT-based authentication for secure and stateless user management \\n🔒 Role-Based Access Control (RBAC) to ensure the appropriate level of access \\n🔒 Refresh tokens to maintain session integrity and prevent re-authentication during active sessions \\n🔒 PostgreSQL to store data related to users, roles, permissions, and session tokens'), Document(metadata={'producer': 'Skia/PDF m136 Google Docs Renderer', 'creator': '', 'creationdate': '', 'source': '..\\\\data\\\\pdf\\\\Akshat Tyagi Final Internship Report 8th Sem.pdf', 'file_path': '..\\\\data\\\\pdf\\\\Akshat Tyagi Final Internship Report 8th Sem.pdf', 'total_pages': 17, 'format': 'PDF 1.4', 'title': 'Akshat Tyagi Final Internship Report 8th Sem', 'author': '', 'subject': '', 'keywords': '', 'moddate': '', 'trapped': '', 'modDate': '', 'creationDate': '', 'page': 13}, page_content=\"Solution Approach 🔍 \\nTo address the project requirements, the solution was designed around several core components: \\nJWT Authentication: This was implemented to handle user login, providing access tokens for each \\nauthenticated user. These tokens were used to authorize requests to specific endpoints. \\nRole-Based Access Control (RBAC): A system was designed where users could be assigned specific roles like \\nadmin, user, or guest. Each role had different levels of permissions, and users were granted access to resources \\nbased on their roles. \\nPostgreSQL Database Design: The database schema was carefully designed to handle users, roles, \\npermissions, and refresh tokens. This structure ensured that the system could scale effectively while \\nmaintaining secure access controls. \\nFastAPI for API Development: FastAPI was used to develop secure API endpoints for handling \\nauthentication, role assignment, token generation, and permission checks. FastAPI's high performance was \\nbeneficial for handling a large number of requests efficiently. \\nSQLModel for Database ORM: SQLModel was used as an ORM tool to simplify database interactions, \\nallowing for clear and concise code when querying the PostgreSQL database. \\n \\nIssues Faced ⚠️ \\nManaging User Roles and Permissions: \\nInitially, it was challenging to implement a flexible, scalable, and maintainable system that handled multiple \\nuser roles and their associated permissions across different resources. The system needed to ensure that users \\nhad the correct access based on their roles. \\nHandling Dependencies and Modular Design: \\nWith several components depending on each other (JWTs, roles, permissions, and tokens), it became \\nnecessary to decouple services and ensure modularity to facilitate future changes and expansions. \\nSecurity of API Endpoints: \\nEnsuring that only authorized users could access certain API endpoints was a core challenge. Managing this \\nwhile also allowing seamless user experiences was critical. \\n \\nSolution Proposed 💡 \\nJWT Authentication: \\nThe JWT approach was chosen to handle stateless authentication, where a token is issued once the user logs \\nin, and this token is used for subsequent requests to access protected routes. The token has an expiration time, \\nand a refresh token mechanism was introduced to allow users to extend their sessions. \\nRBAC Implementation:\"), Document(metadata={'producer': 'Skia/PDF m136 Google Docs Renderer', 'creator': '', 'creationdate': '', 'source': '..\\\\data\\\\pdf\\\\Akshat Tyagi Final Internship Report 8th Sem.pdf', 'file_path': '..\\\\data\\\\pdf\\\\Akshat Tyagi Final Internship Report 8th Sem.pdf', 'total_pages': 17, 'format': 'PDF 1.4', 'title': 'Akshat Tyagi Final Internship Report 8th Sem', 'author': '', 'subject': '', 'keywords': '', 'moddate': '', 'trapped': '', 'modDate': '', 'creationDate': '', 'page': 14}, page_content=\"Users were assigned roles (admin, user, etc.), and each role was mapped to certain permissions (read, write, \\ndelete). This system ensures that access to resources is controlled at the user level, with only users with \\nspecific roles able to perform certain actions. \\nPostgreSQL Database Schema: \\nTables were created for managing users, roles, permissions, and their relationships. The following \\nrelationships were mapped: \\nUserRoles: Connecting users to their respective roles \\nRolePermissions: Connecting roles to their corresponding permissions \\nPermissions: Each permission defines a specific action a user can perform (like reading or writing data) \\nAPI Endpoints: \\nSpecific endpoints were created for registration, login, token refresh, and role management. These endpoints \\nfollowed REST principles and utilized FastAPI's built-in security features to ensure proper validation and \\nauthorization. \\n \\nSolution Implemented Till Now ✅ \\nPostgreSQL Database Design: \\nThe users, roles, permissions, and user_roles tables were set up to store data for each component of the IAM \\nsystem. This ensures that relationships between users, roles, and permissions are clearly defined and easily \\naccessible for API queries. \\nFastAPI Development: \\nEndpoints were created to allow users to log in, get access tokens, and refresh their tokens. Each endpoint \\nenforces security measures, ensuring that only authorized users can access certain endpoints. These endpoints \\nare secured by JWT authentication and RBAC. \\nSecurity Layers: \\nAPI endpoints used JWTs to validate user sessions. Roles and permissions were checked at each access point \\nto ensure the user had the correct level of authorization. \\n \\nTesting: \\nAutomated tests were written to verify the functionality of the IAM system. Thesetests include checking the \\nvalidity of the JWTs, role-based access control, and ensuring that token expiration and refresh mechanisms \\nwork correctly. \\nPydantic for Data Validation: \\nData validation and serialization were handled using Pydantic to ensure that the input data in requests was \\nvalid and correctly formatted. This minimized the risk of security vulnerabilities from malicious inputs. \\nCode Quality: \\nLinting tools like Flake8 and PyLint were integrated to ensure the quality and consistency of the code. A \\npre-commit hook was set up to automatically run these linters before code is committed, enforcing code \\nstandards across the team. \\n \\nConclusion 📝 \\nThis project successfully implemented a highly secure Identity and Access Management system that uses \\nFastAPI, SQLModel, and PostgreSQL to handle authentication, authorization, and secure token management. \\nThe modular architecture ensures that the IAM system can scale and evolve over time to support new features, \\nsuch as additional roles, permissions, and security protocols. \\nThe integration of JWT authentication, RBAC, and refresh tokens provides a strong foundation for managing\"), Document(metadata={'producer': 'Skia/PDF m136 Google Docs Renderer', 'creator': '', 'creationdate': '', 'source': '..\\\\data\\\\pdf\\\\Akshat Tyagi Final Internship Report 8th Sem.pdf', 'file_path': '..\\\\data\\\\pdf\\\\Akshat Tyagi Final Internship Report 8th Sem.pdf', 'total_pages': 17, 'format': 'PDF 1.4', 'title': 'Akshat Tyagi Final Internship Report 8th Sem', 'author': '', 'subject': '', 'keywords': '', 'moddate': '', 'trapped': '', 'modDate': '', 'creationDate': '', 'page': 15}, page_content=\"user access securely, while the use of PostgreSQL for relational data modeling ensures efficient questions. \\n \\n10. Overall Conclusion, Personal Growth, and Final Thoughts \\n \\n10.1 Overall Conclusion \\nThe internship at AFI Digital Services has been a rewarding journey, providing extensive experience in \\nbackend development, CMS integration, and DevOps practices. I contributed to significant projects, including \\nenhancing the Safe Delivery App, researching CMS migration strategies, and developing a robust Identity and \\nAccess Management system. These experiences have not only honed my technical skills but also provided \\nvaluable insights into the software development lifecycle and the importance of efficient, scalable, and \\nmaintainable code. \\n \\n10.2 Personal Growth \\n●\\u200b Enhanced Problem-Solving Skills: Tackling complex issues like optimizing database queries and \\ndebugging distributed systems significantly improved my analytical and problem-solving abilities. \\n●\\u200b Improved Team Collaboration: Working closely with frontend and backend teams, as well as \\nstakeholders, enhanced my collaboration and communication skills. I learned to articulate technical \\nconcepts clearly and effectively, ensuring seamless project execution. \\n●\\u200b Time Management and Prioritization: Managing multiple tasks and deadlines in a fast-paced \\nenvironment taught me how to prioritize effectively and manage my time efficiently. \\n●\\u200b Adaptability and Learning Agility: The internship required me to quickly learn and adapt to new \\ntechnologies and methodologies, fostering my learning agility and adaptability. \\n●\\u200b Professional Confidence: Successfully contributing to significant projects and receiving positive \\nfeedback from mentors boosted my professional confidence. \\n \\n10.3 Final Thoughts \\nI am grateful for the opportunity to have worked on a project with such a meaningful impact on global \\nhealthcare. The skills and experiences I gained have solidified my passion for software development and \\nprovided a strong foundation for my future career. I am excited to apply what I've learned to new challenges \\nand continue to grow as a software engineer.\"), Document(metadata={'producer': 'Skia/PDF m136 Google Docs Renderer', 'creator': '', 'creationdate': '', 'source': '..\\\\data\\\\pdf\\\\Akshat Tyagi Final Internship Report 8th Sem.pdf', 'file_path': '..\\\\data\\\\pdf\\\\Akshat Tyagi Final Internship Report 8th Sem.pdf', 'total_pages': 17, 'format': 'PDF 1.4', 'title': 'Akshat Tyagi Final Internship Report 8th Sem', 'author': '', 'subject': '', 'keywords': '', 'moddate': '', 'trapped': '', 'modDate': '', 'creationDate': '', 'page': 16}, page_content=''), Document(metadata={'producer': 'Skia/PDF m132', 'creator': 'Mozilla/5.0 (Windows NT 10.0; Win64; x64) AppleWebKit/537.36 (KHTML, like Gecko) obsidian/1.8.10 Chrome/132.0.6834.196 Electron/34.2.0 Safari/537.36', 'creationdate': '2025-07-03T19:36:16+00:00', 'source': '..\\\\data\\\\pdf\\\\Psychology.pdf', 'file_path': '..\\\\data\\\\pdf\\\\Psychology.pdf', 'total_pages': 5, 'format': 'PDF 1.4', 'title': 'Psychology - Obsidian Vault - Obsidian v1.8.10', 'author': '', 'subject': '', 'keywords': '', 'moddate': '2025-07-03T19:36:16+00:00', 'trapped': '', 'modDate': \"D:20250703193616+00'00'\", 'creationDate': \"D:20250703193616+00'00'\", 'page': 0}, page_content=\"Psychology\\n🧠 Master Library of Life-Changing Psychological\\n& Productivity Laws\\n🎯 Productivity & Time Management\\n1. Parkinson's Law\\n2. Hofstadter’s Law\\n3. Time Blocking\\n4. Pomodoro Technique\\n🤯 Cognitive Biases & Mind Psychology\\nSummary: Work expands to fill the time allotted.\\nUse It: Set artificial, tight deadlines.\\nExample: A 2-hour task taking all day if you allow it.\\nTactic: Time-blocking / Focus sprints\\nSummary: Things always take longer than expected — even when accounting for this law.\\nUse It: Add 25–50% buffer time.\\nTactic: Overestimate for planning.\\nSummary: Allocate fixed time slots for each task.\\nUse It: Prevent task sprawl.\\nTactic: Use calendar or planner.\\nSummary: Work in 25-minute bursts with 5-minute breaks.\\nUse It: Beat procrastination, maintain focus.\\nTactic: Use Pomofocus / Tomato Timer.\"), Document(metadata={'producer': 'Skia/PDF m132', 'creator': 'Mozilla/5.0 (Windows NT 10.0; Win64; x64) AppleWebKit/537.36 (KHTML, like Gecko) obsidian/1.8.10 Chrome/132.0.6834.196 Electron/34.2.0 Safari/537.36', 'creationdate': '2025-07-03T19:36:16+00:00', 'source': '..\\\\data\\\\pdf\\\\Psychology.pdf', 'file_path': '..\\\\data\\\\pdf\\\\Psychology.pdf', 'total_pages': 5, 'format': 'PDF 1.4', 'title': 'Psychology - Obsidian Vault - Obsidian v1.8.10', 'author': '', 'subject': '', 'keywords': '', 'moddate': '2025-07-03T19:36:16+00:00', 'trapped': '', 'modDate': \"D:20250703193616+00'00'\", 'creationDate': \"D:20250703193616+00'00'\", 'page': 1}, page_content='5. Dunning-Kruger Effect\\n6. Zeigarnik Effect\\n7. Decision Fatigue\\n8. Ego Depletion\\n📊 Decision-Making & Critical Thinking\\n9. First Principles Thinking\\n10. Second-Order Thinking\\n11. Occam’s Razor\\nSummary: Incompetent people overestimate their skills; experts underestimate.\\nUse It: Stay humble, learn continuously.\\nTactic: Ask for feedback, measure progress.\\nSummary: We remember uncompleted tasks better than completed ones.\\nUse It: Finish small tasks quickly to clear mental load.\\nTactic: Use a task manager to “close loops.”\\nSummary: Mental energy drains after many decisions.\\nUse It: Automate low-stakes choices.\\nTactic: Same meals, same outfits, morning routines.\\nSummary: Self-control is a finite resource.\\nUse It: Avoid multitasking. Don’t schedule draining tasks together.\\nSummary: Break down a problem to its basics and rebuild from scratch.\\nUse It: Innovate and challenge assumptions.\\nTactic: Ask “What do I know for sure?”\\nSummary: Think beyond immediate consequences.\\nUse It: Anticipate long-term effects.\\nTactic: Ask “And then what?” 2-3 layers deep.'), Document(metadata={'producer': 'Skia/PDF m132', 'creator': 'Mozilla/5.0 (Windows NT 10.0; Win64; x64) AppleWebKit/537.36 (KHTML, like Gecko) obsidian/1.8.10 Chrome/132.0.6834.196 Electron/34.2.0 Safari/537.36', 'creationdate': '2025-07-03T19:36:16+00:00', 'source': '..\\\\data\\\\pdf\\\\Psychology.pdf', 'file_path': '..\\\\data\\\\pdf\\\\Psychology.pdf', 'total_pages': 5, 'format': 'PDF 1.4', 'title': 'Psychology - Obsidian Vault - Obsidian v1.8.10', 'author': '', 'subject': '', 'keywords': '', 'moddate': '2025-07-03T19:36:16+00:00', 'trapped': '', 'modDate': \"D:20250703193616+00'00'\", 'creationDate': \"D:20250703193616+00'00'\", 'page': 2}, page_content='12. Inversion\\n🔁 Habit Formation & Self-Discipline\\n13. Cue-Routine-Reward (Habit Loop)\\n14. Identity-Based Habits\\n15. 2-Minute Rule\\n16. BJ Fogg’s Behavior Model\\n💰 Behavioral Economics & Decision Biases\\nSummary: Simpler solutions are usually better.\\nUse It: Don’t over-engineer things.\\nTactic: Cut complexity when stuck.\\nSummary: Think about what not to do or how to fail.\\nUse It: Identify risks and blockers first.\\nTactic: Ask “How could this go wrong?”\\nSummary: Habits are loops triggered by cues.\\nUse It: Change your cue or reward to build a new habit.\\nTactic: Habit stacking.\\nSummary: Habits stick when tied to identity.\\nUse It: \"I\\'m a healthy person\" vs \"I want to eat healthy.\"\\nTactic: Reinforce the person you want to become.\\nSummary: If it takes less than 2 minutes, do it now.\\nUse It: Beat inertia.\\nTactic: Use this rule to start big tasks by just doing the first 2 minutes.\\nSummary: Behavior = Motivation + Ability + Prompt\\nUse It: Design small behaviors that are easy to do and triggered by a prompt.'), Document(metadata={'producer': 'Skia/PDF m132', 'creator': 'Mozilla/5.0 (Windows NT 10.0; Win64; x64) AppleWebKit/537.36 (KHTML, like Gecko) obsidian/1.8.10 Chrome/132.0.6834.196 Electron/34.2.0 Safari/537.36', 'creationdate': '2025-07-03T19:36:16+00:00', 'source': '..\\\\data\\\\pdf\\\\Psychology.pdf', 'file_path': '..\\\\data\\\\pdf\\\\Psychology.pdf', 'total_pages': 5, 'format': 'PDF 1.4', 'title': 'Psychology - Obsidian Vault - Obsidian v1.8.10', 'author': '', 'subject': '', 'keywords': '', 'moddate': '2025-07-03T19:36:16+00:00', 'trapped': '', 'modDate': \"D:20250703193616+00'00'\", 'creationDate': \"D:20250703193616+00'00'\", 'page': 3}, page_content='17. Sunk Cost Fallacy\\n18. Loss Aversion\\n19. Status Quo Bias\\n20. Nudge Theory\\n🔄 Miscellaneous Master Laws\\n21. Law of Diminishing Returns\\n22. Flow State (Csikszentmihalyi)\\n23. Locus of Control\\nSummary: Continuing something just because you already invested.\\nUse It: Cut your losses.\\nTactic: Focus on ROI, not past effort.\\nSummary: Losses hurt more than equivalent gains feel good.\\nUse It: Frame actions in terms of avoiding losses.\\nSummary: We prefer things to stay the same.\\nUse It: Push yourself to make bold choices.\\nSummary: Small tweaks in environment influence behavior.\\nUse It: Optimize your surroundings.\\nTactic: Put healthy food in sight, phone away when working.\\nSummary: More input = less output after a point.\\nUse It: Know when to stop or switch.\\nSummary: Optimal state of deep focus & enjoyment.\\nUse It: Work at the edge of your ability.\\nTactic: Eliminate distractions, choose meaningful work.\\nSummary: Belief in control over your life.\\nUse It: Focus on what you can control.'), Document(metadata={'producer': 'Skia/PDF m132', 'creator': 'Mozilla/5.0 (Windows NT 10.0; Win64; x64) AppleWebKit/537.36 (KHTML, like Gecko) obsidian/1.8.10 Chrome/132.0.6834.196 Electron/34.2.0 Safari/537.36', 'creationdate': '2025-07-03T19:36:16+00:00', 'source': '..\\\\data\\\\pdf\\\\Psychology.pdf', 'file_path': '..\\\\data\\\\pdf\\\\Psychology.pdf', 'total_pages': 5, 'format': 'PDF 1.4', 'title': 'Psychology - Obsidian Vault - Obsidian v1.8.10', 'author': '', 'subject': '', 'keywords': '', 'moddate': '2025-07-03T19:36:16+00:00', 'trapped': '', 'modDate': \"D:20250703193616+00'00'\", 'creationDate': \"D:20250703193616+00'00'\", 'page': 4}, page_content='24. Kaizen Principle\\n🛠️ Practical Ways to Implement in Daily Life\\nLet me know when you\\'re ready for the visual mind map next! 🎯\\nSummary: Continuous small improvements lead to big results.\\nUse It: Just improve 1% each day.\\nCreate a Notion dashboard with toggles for each category.\\nAdd checkboxes to laws you\\'ve \"practiced\" each week.\\nWeekly reviews: Reflect on which law you broke and how to improve.\\nUse quote widgets (Indify, WidgetBox) for reminders.')]\n"
     ]
    },
    {
     "name": "stderr",
     "output_type": "stream",
     "text": [
      "\n"
     ]
    }
   ],
   "source": [
    "### Directory loader\n",
    "\n",
    "from langchain_community.document_loaders import PyMuPDFLoader, PyPDFLoader\n",
    "\n",
    "dir_loader = DirectoryLoader(\"../data/pdf\", glob=\"**/*.pdf\", loader_cls=PyMuPDFLoader,show_progress=True)\n",
    "pdf_data = dir_loader.load()\n",
    "print(pdf_data)"
   ]
  },
  {
   "cell_type": "code",
   "execution_count": 17,
   "id": "563db2b6",
   "metadata": {},
   "outputs": [
    {
     "data": {
      "text/plain": [
       "langchain_core.documents.base.Document"
      ]
     },
     "execution_count": 17,
     "metadata": {},
     "output_type": "execute_result"
    }
   ],
   "source": [
    "type(pdf_data[0])"
   ]
  },
  {
   "cell_type": "markdown",
   "id": "13d092a3",
   "metadata": {},
   "source": [
    "### Embeddings and vector store db"
   ]
  },
  {
   "cell_type": "code",
   "execution_count": 1,
   "id": "69bdecb2",
   "metadata": {},
   "outputs": [
    {
     "name": "stderr",
     "output_type": "stream",
     "text": [
      "c:\\Users\\Akshat tyagi\\Desktop\\Agentic\\RAG\\.venv\\Lib\\site-packages\\tqdm\\auto.py:21: TqdmWarning: IProgress not found. Please update jupyter and ipywidgets. See https://ipywidgets.readthedocs.io/en/stable/user_install.html\n",
      "  from .autonotebook import tqdm as notebook_tqdm\n"
     ]
    }
   ],
   "source": [
    "import numpy as np\n",
    "from sentence_transformers import SentenceTransformer\n",
    "import chromadb\n",
    "from chromadb.config import Settings\n",
    "import uuid\n",
    "from typing import List, Dict, Tuple, Any\n",
    "from sklearn.metrics.pairwise import cosine_similarity"
   ]
  },
  {
   "cell_type": "code",
   "execution_count": 6,
   "id": "89beec2b",
   "metadata": {},
   "outputs": [
    {
     "name": "stdout",
     "output_type": "stream",
     "text": [
      "Loading model 'all-MiniLM-L6-v2'...\n",
      "Model 'all-MiniLM-L6-v2' loaded successfully. Embedding dimension: 384\n"
     ]
    },
    {
     "data": {
      "text/plain": [
       "<__main__.EmbeddingManager at 0x23da4af4440>"
      ]
     },
     "execution_count": 6,
     "metadata": {},
     "output_type": "execute_result"
    }
   ],
   "source": [
    "class EmbeddingManager:\n",
    "    \"\"\"Manages embeddings and similarity search using ChromaDB and Sentence Transformers.\"\"\"\n",
    "    \n",
    "    def __init__(self, model_name: str = \"all-MiniLM-L6-v2\"):\n",
    "        \n",
    "        self.model_name = model_name\n",
    "        self.model = None\n",
    "        self._load_model()\n",
    "        \n",
    "    def _load_model(self):\n",
    "        \"\"\"Load the sentence transformer model.\"\"\"\n",
    "        try:\n",
    "            print(f\"Loading model '{self.model_name}'...\")\n",
    "            self.model = SentenceTransformer(self.model_name)\n",
    "            print(f\"Model '{self.model_name}' loaded successfully. Embedding dimension: {self.model.get_sentence_embedding_dimension()}\")\n",
    "        except Exception as e:\n",
    "            print(f\"Error loading model '{self.model_name}': {e}\")\n",
    "            raise\n",
    "        \n",
    "    def generate_embedding(self, text: List[str]) -> np.ndarray:\n",
    "        \"\"\"Generate embedding for a given text.\"\"\"\n",
    "        if not self.model:\n",
    "            raise ValueError(\"Model not loaded.\")\n",
    "\n",
    "        print(f\"Generating embeddings for {len(text)} texts...\")\n",
    "        embeddings= self.model.encode(text, show_progress_bar=True)\n",
    "        print(\"Embeddings generated.\")\n",
    "        return embeddings\n",
    "    \n",
    "    def get_embedding_dimension(self) -> int:\n",
    "        \"\"\"Get the dimension of the embeddings.\"\"\"\n",
    "        if not self.model:\n",
    "            raise ValueError(\"Model not loaded.\")\n",
    "        return self.model.get_sentence_embedding_dimension()\n",
    "    \n",
    "    \n",
    "    \n",
    "## Initialize the EmbeddingManager\n",
    "embedding_manager = EmbeddingManager()\n",
    "embedding_manager"
   ]
  },
  {
   "cell_type": "code",
   "execution_count": null,
   "id": "7fbbf470",
   "metadata": {},
   "outputs": [],
   "source": []
  }
 ],
 "metadata": {
  "kernelspec": {
   "display_name": "RAG",
   "language": "python",
   "name": "python3"
  },
  "language_info": {
   "codemirror_mode": {
    "name": "ipython",
    "version": 3
   },
   "file_extension": ".py",
   "mimetype": "text/x-python",
   "name": "python",
   "nbconvert_exporter": "python",
   "pygments_lexer": "ipython3",
   "version": "3.13.2"
  }
 },
 "nbformat": 4,
 "nbformat_minor": 5
}
