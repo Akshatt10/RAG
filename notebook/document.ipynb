{
 "cells": [
  {
   "cell_type": "markdown",
   "id": "377fe6dd",
   "metadata": {},
   "source": [
    "### Data Ingestion\n"
   ]
  },
  {
   "cell_type": "code",
   "execution_count": 2,
   "id": "435984cc",
   "metadata": {},
   "outputs": [],
   "source": [
    "from langchain_core.documents import Document"
   ]
  },
  {
   "cell_type": "code",
   "execution_count": 9,
   "id": "66d2b553",
   "metadata": {},
   "outputs": [
    {
     "name": "stderr",
     "output_type": "stream",
     "text": [
      "100%|██████████| 1/1 [00:04<00:00,  4.39s/it]"
     ]
    },
    {
     "name": "stdout",
     "output_type": "stream",
     "text": [
      "10 chunks ready for embeddings\n"
     ]
    },
    {
     "name": "stderr",
     "output_type": "stream",
     "text": [
      "\n"
     ]
    }
   ],
   "source": [
    "from pathlib import Path\n",
    "from langchain_community.document_loaders import DirectoryLoader, UnstructuredWordDocumentLoader\n",
    "from langchain.text_splitter import RecursiveCharacterTextSplitter\n",
    "\n",
    "# Load every .docx file inside ../data/word (recursively if needed)\n",
    "loader = DirectoryLoader(\n",
    "    \"../data/word\",                      # Folder containing Word files\n",
    "    glob=\"**/*.docx\",                    # Match all .docx files (subfolders too)\n",
    "    loader_cls=UnstructuredWordDocumentLoader,\n",
    "    show_progress=True,\n",
    ")\n",
    "\n",
    "docs = loader.load()\n",
    "\n",
    "splitter = RecursiveCharacterTextSplitter(chunk_size=1000, chunk_overlap=200)\n",
    "chunks = splitter.split_documents(docs)\n",
    "\n",
    "print(f\"{len(chunks)} chunks ready for embeddings\")\n"
   ]
  },
  {
   "cell_type": "code",
   "execution_count": 10,
   "id": "563db2b6",
   "metadata": {},
   "outputs": [
    {
     "data": {
      "text/plain": [
       "[Document(metadata={'source': '..\\\\data\\\\word\\\\AMTSL (Newborn Management) .docx'}, page_content='Newborn Management within AMTSL – Segmented content with location in the SDA'),\n",
       " Document(metadata={'source': '..\\\\data\\\\word\\\\AMTSL (Newborn Management) .docx'}, page_content='No Content (this is additional information on newborn care to the already prepared AMTSL material) Location in SDA Immediate newborn care AMTSL – video – Assess the Newborn AMTSL – Initial Care safedelivery://active-management-of-third-stage-labour_1487678773861/video/India%20english/Active%20management%20of%20third%20stage%20labour/assess_the_baby safedelivery://active-management-of-third-stage-labour_1487678773861/video/India%20english/Active%20management%20of%20third%20stage%20labour/initial_care_of_the_newborn Start a clock or note down the time. At delivery dry and stimulate the newborn. While you dry the baby with a clean towel, make sure that the baby is breathing regularly, has good colour with pink lips and tongue, and is moving its arms and legs with a good tone. Keep the baby warm by skin to skin contact with the mother. Cover with a blanket and put on a cap and place the baby on mother’s abdomen in prone position Monitor the newborn closely. Do not suction the airway'),\n",
       " Document(metadata={'source': '..\\\\data\\\\word\\\\AMTSL (Newborn Management) .docx'}, page_content='warm by skin to skin contact with the mother. Cover with a blanket and put on a cap and place the baby on mother’s abdomen in prone position Monitor the newborn closely. Do not suction the airway unless the baby is not breathing and there is thick meconium. If not crying well or having breathing difficulties   proceed to neonatal resuscitation. Benefits of early breastfeeding / advantages of initiating breastfeeding early. AMTSL – video – Early breastfeeding safedelivery://active-management-of-third-stage-labour_1487678773861/video/India%20english/Active%20management%20of%20third%20stage%20labour/early_breastfeeding Initiate breast feeding as early as possible. Early breastfeeding will also stimulate the uterus to contract. It will also help the baby to fully inflate the lungs, provide important nutrition and strengthen its immune system. Prevention of Complications in the Newborn AMTSL-video Prevention AMTSL – Action Card – Prevention'),\n",
       " Document(metadata={'source': '..\\\\data\\\\word\\\\AMTSL (Newborn Management) .docx'}, page_content='the baby to fully inflate the lungs, provide important nutrition and strengthen its immune system. Prevention of Complications in the Newborn AMTSL-video Prevention AMTSL – Action Card – Prevention safedelivery://active-management-of-third-stage-labour_1487678773861/video/India%20english/Active%20management%20of%20third%20stage%20labour/prevention safedelivery://active-management-of-third-stage-labour_1487678773861/ac/prevention_1486813119229 Some severe complications in the newborn are preventable. Prevention of Respiratory Distress in Preterm Labour To prevent respiratory distress in newborns at preterm labour between 24 and 34 gestational weeks or estimated birth weight below 2 kg give the mother dexamethasone 6 mg deep IM four times 12 hours apart Prevention of newborn infections To prevent severe newborn infections, give antibiotics to the mother if: -  membranes rupture before gestational weeks 37 or more than 18 hours before delivery OR -  fever is higher 38˚C before or during'),\n",
       " Document(metadata={'source': '..\\\\data\\\\word\\\\AMTSL (Newborn Management) .docx'}, page_content='severe newborn infections, give antibiotics to the mother if: -  membranes rupture before gestational weeks 37 or more than 18 hours before delivery OR -  fever is higher 38˚C before or during delivery OR -  amniotic fluid is purulent or foul-smelling OR - she has documented colonization with Group B Streptococcus. Give the mother Ampicillin 2 g IV every 6 hour. After delivery also give the newborn Ampicillin 50 mg per kg IV or IM twice daily and Gentamicin 5 mg per kg IV or IM once daily for at least seven days. Prevention and treatment of low blood sugar Prevent and treat low blood sugar by Early feeding (start within 30 minutes of birth, feed every 2nd hour) Keep warm by skin to skin contact to the mother If unable to suck give expressed milk 10 ml/kg in a cup/paladai or by orogastric tube. If not possible or the newborn vomits give Glucose 10% 5 ml/kg/hour IV. Monitor closely for emergency signs Dexamethasone AMTSL – video Prevention Drug list – Dexamethasone'),\n",
       " Document(metadata={'source': '..\\\\data\\\\word\\\\AMTSL (Newborn Management) .docx'}, page_content='or by orogastric tube. If not possible or the newborn vomits give Glucose 10% 5 ml/kg/hour IV. Monitor closely for emergency signs Dexamethasone AMTSL – video Prevention Drug list – Dexamethasone safedelivery://active-management-of-third-stage-labour_1487678773861/video/India%20english/Active%20management%20of%20third%20stage%20labour/prevention safedelivery://active-management-of-third-stage-labour_1487678773861/drug/ dexamethasone_1487101787771 Use of Dexamethasone For lung maturation and prevention of respiratory distress of the newborn in preterm labor between 24 to 34 weeks gestation. Indications of Dexamethasone For conditions that lead to imminent preterm delivery: Antepartum haemorrhage Preterm rupture of membranes Severe pre-eclampsia/eclampsia Dosage and Administration 6 mg intramuscularly (IM), four doses, 12 hours apart each Contraindications Frank chorioamnionitis Following signs and symptoms in the women that suggest  Frank chorioamnionitis: History of fever and lower'),\n",
       " Document(metadata={'source': '..\\\\data\\\\word\\\\AMTSL (Newborn Management) .docx'}, page_content='(IM), four doses, 12 hours apart each Contraindications Frank chorioamnionitis Following signs and symptoms in the women that suggest  Frank chorioamnionitis: History of fever and lower abdominal pain Foul smelling discharge, tachycardia, and tender uterus Foetal tachycardia Adverse reactions of Dexamethasone Vision changes, swelling, rapid weight gain, sleep problems, mood changes, acne, dry skin, thinning skin, bruising or discoloration, slow wound healing, increased sweating, headache, dizziness, spinning sensation, nausea, stomach pain, bloating, muscle weakness, change in the shape or location of body fat. Anaphylactic shock is rare. Ampicillin AMTSL – video Prevention Drug list – Ampicillin safedelivery://active-management-of-third-stage-labour_1487678773861/video/India%20english/Active%20management%20of%20third%20stage%20labour/prevention safedelivery://active-management-of-third-stage-labour_1487678773861/drug/ Ampicillin is not part of AMTSL – India English v136'),\n",
       " Document(metadata={'source': '..\\\\data\\\\word\\\\AMTSL (Newborn Management) .docx'}, page_content='safedelivery://active-management-of-third-stage-labour_1487678773861/drug/ Ampicillin is not part of AMTSL – India English v136 ampicillin_1486975748548 Indications and usage of Ampicillin Ampicillin is effective to treat gram positive and negative bacterial infections Dosage for newborn: First week of life give 50 mg/kg per dose every 12 hours intravenously (IV) Week 2-4 of life give 50 mg/kg per dose every 8 hours intravenously (IV) Contraindications of Ampicillin: Allergy to penicillin Adverse reaction: Common adverse reactions are diarrhea and skin rash. Uncommon reactions are nausea, vomiting, stomatitis, glossitis, pseudomembranous colitis, lowered platelets, anaemia, and urticaria. Anaphylactic shock is rare. Gentamicin AMTSL – video Prevention Drug list – Gentamicin safedelivery://active-management-of-third-stage-labour_1487678773861/video/India%20english/Active%20management%20of%20third%20stage%20labour/prevention'),\n",
       " Document(metadata={'source': '..\\\\data\\\\word\\\\AMTSL (Newborn Management) .docx'}, page_content='AMTSL – video Prevention Drug list – Gentamicin safedelivery://active-management-of-third-stage-labour_1487678773861/video/India%20english/Active%20management%20of%20third%20stage%20labour/prevention safedelivery://active-management-of-third-stage-labour_1487678773861/drug/ Gentamicin is not part of AMTSL – India English v136 gentamicin_1487679704293 Indications and usage of Gentamicin Gentamicin is indicated for treatment of severe or serious bacterial infections. Dosage for newborn: Weight below 2,5 kg: 3-4 mg/kg every 24 hours IM or IV. Weight above 2,5 kg: 2,5 mg/kg every 12 hours for term and 1,5 mg/kg every 2 hours for preterm IM or IV. Treat for at least two days. Contraindications of Gentamicin: Allergy to aminoglycosides Treatment should not be more than 3 days if there is renal failure (oliguria or elevated creatinine). Adverse reactions of Gentamicin: Common adverse reaction are kidney affection, hearing loss, and tinnitus. Uncommon reactions are liver affection, increased'),\n",
       " Document(metadata={'source': '..\\\\data\\\\word\\\\AMTSL (Newborn Management) .docx'}, page_content='failure (oliguria or elevated creatinine). Adverse reactions of Gentamicin: Common adverse reaction are kidney affection, hearing loss, and tinnitus. Uncommon reactions are liver affection, increased or lowered blood pressure, respiratory depression, lowered platelets, joint and muscle ache, skin rash, visual disturbances, itching, urticaria. Rare reactions: deafness, hair loss, low urine production, and necrosis of the skin.')]"
      ]
     },
     "execution_count": 10,
     "metadata": {},
     "output_type": "execute_result"
    }
   ],
   "source": [
    "chunks"
   ]
  },
  {
   "cell_type": "markdown",
   "id": "13d092a3",
   "metadata": {},
   "source": [
    "### Embeddings and vector store db"
   ]
  },
  {
   "cell_type": "code",
   "execution_count": 11,
   "id": "49892ff6",
   "metadata": {},
   "outputs": [
    {
     "name": "stderr",
     "output_type": "stream",
     "text": [
      "c:\\Users\\nitis\\OneDrive\\Documents\\GitHub\\RAG\\.venv\\Lib\\site-packages\\tqdm\\auto.py:21: TqdmWarning: IProgress not found. Please update jupyter and ipywidgets. See https://ipywidgets.readthedocs.io/en/stable/user_install.html\n",
      "  from .autonotebook import tqdm as notebook_tqdm\n"
     ]
    }
   ],
   "source": [
    "import os\n",
    "from langchain_community.document_loaders import PyPDFLoader, PyMuPDFLoader\n",
    "from langchain.text_splitter import RecursiveCharacterTextSplitter\n",
    "from pathlib import Path"
   ]
  },
  {
   "cell_type": "code",
   "execution_count": 12,
   "id": "ce7ccbf6",
   "metadata": {},
   "outputs": [
    {
     "name": "stderr",
     "output_type": "stream",
     "text": [
      "100%|██████████| 1/1 [00:00<00:00, 11.94it/s]"
     ]
    },
    {
     "name": "stdout",
     "output_type": "stream",
     "text": [
      "Loaded 1 Word documents\n"
     ]
    },
    {
     "name": "stderr",
     "output_type": "stream",
     "text": [
      "\n"
     ]
    }
   ],
   "source": [
    "def load_word_documents(word_dir: str):\n",
    "    loader = DirectoryLoader(\n",
    "        word_dir,\n",
    "        glob=\"**/*.docx\",\n",
    "        loader_cls=UnstructuredWordDocumentLoader,\n",
    "        show_progress=True,\n",
    "    )\n",
    "    docs = loader.load()\n",
    "    \n",
    "    # Add metadata\n",
    "    for doc in docs:\n",
    "        doc.metadata['file_type'] = 'word'\n",
    "    \n",
    "    print(f\"Loaded {len(docs)} Word documents\")\n",
    "    return docs\n",
    "\n",
    "docs = load_word_documents(\"../data/word\")"
   ]
  },
  {
   "cell_type": "code",
   "execution_count": 13,
   "id": "fb699f28",
   "metadata": {},
   "outputs": [
    {
     "data": {
      "text/plain": [
       "[Document(metadata={'source': '..\\\\data\\\\word\\\\AMTSL (Newborn Management) .docx', 'file_type': 'word'}, page_content='Newborn Management within AMTSL – Segmented content with location in the SDA\\n\\nNo Content (this is additional information on newborn care to the already prepared AMTSL material) Location in SDA Immediate newborn care AMTSL – video – Assess the Newborn AMTSL – Initial Care safedelivery://active-management-of-third-stage-labour_1487678773861/video/India%20english/Active%20management%20of%20third%20stage%20labour/assess_the_baby safedelivery://active-management-of-third-stage-labour_1487678773861/video/India%20english/Active%20management%20of%20third%20stage%20labour/initial_care_of_the_newborn Start a clock or note down the time. At delivery dry and stimulate the newborn. While you dry the baby with a clean towel, make sure that the baby is breathing regularly, has good colour with pink lips and tongue, and is moving its arms and legs with a good tone. Keep the baby warm by skin to skin contact with the mother. Cover with a blanket and put on a cap and place the baby on mother’s abdomen in prone position Monitor the newborn closely. Do not suction the airway unless the baby is not breathing and there is thick meconium. If not crying well or having breathing difficulties   proceed to neonatal resuscitation. Benefits of early breastfeeding / advantages of initiating breastfeeding early. AMTSL – video – Early breastfeeding safedelivery://active-management-of-third-stage-labour_1487678773861/video/India%20english/Active%20management%20of%20third%20stage%20labour/early_breastfeeding Initiate breast feeding as early as possible. Early breastfeeding will also stimulate the uterus to contract. It will also help the baby to fully inflate the lungs, provide important nutrition and strengthen its immune system. Prevention of Complications in the Newborn AMTSL-video Prevention AMTSL – Action Card – Prevention safedelivery://active-management-of-third-stage-labour_1487678773861/video/India%20english/Active%20management%20of%20third%20stage%20labour/prevention safedelivery://active-management-of-third-stage-labour_1487678773861/ac/prevention_1486813119229 Some severe complications in the newborn are preventable. Prevention of Respiratory Distress in Preterm Labour To prevent respiratory distress in newborns at preterm labour between 24 and 34 gestational weeks or estimated birth weight below 2 kg give the mother dexamethasone 6 mg deep IM four times 12 hours apart Prevention of newborn infections To prevent severe newborn infections, give antibiotics to the mother if: -  membranes rupture before gestational weeks 37 or more than 18 hours before delivery OR -  fever is higher 38˚C before or during delivery OR -  amniotic fluid is purulent or foul-smelling OR - she has documented colonization with Group B Streptococcus. Give the mother Ampicillin 2 g IV every 6 hour. After delivery also give the newborn Ampicillin 50 mg per kg IV or IM twice daily and Gentamicin 5 mg per kg IV or IM once daily for at least seven days. Prevention and treatment of low blood sugar Prevent and treat low blood sugar by Early feeding (start within 30 minutes of birth, feed every 2nd hour) Keep warm by skin to skin contact to the mother If unable to suck give expressed milk 10 ml/kg in a cup/paladai or by orogastric tube. If not possible or the newborn vomits give Glucose 10% 5 ml/kg/hour IV. Monitor closely for emergency signs Dexamethasone AMTSL – video Prevention Drug list – Dexamethasone safedelivery://active-management-of-third-stage-labour_1487678773861/video/India%20english/Active%20management%20of%20third%20stage%20labour/prevention safedelivery://active-management-of-third-stage-labour_1487678773861/drug/ dexamethasone_1487101787771 Use of Dexamethasone For lung maturation and prevention of respiratory distress of the newborn in preterm labor between 24 to 34 weeks gestation. Indications of Dexamethasone For conditions that lead to imminent preterm delivery: Antepartum haemorrhage Preterm rupture of membranes Severe pre-eclampsia/eclampsia Dosage and Administration 6 mg intramuscularly (IM), four doses, 12 hours apart each Contraindications Frank chorioamnionitis Following signs and symptoms in the women that suggest  Frank chorioamnionitis: History of fever and lower abdominal pain Foul smelling discharge, tachycardia, and tender uterus Foetal tachycardia Adverse reactions of Dexamethasone Vision changes, swelling, rapid weight gain, sleep problems, mood changes, acne, dry skin, thinning skin, bruising or discoloration, slow wound healing, increased sweating, headache, dizziness, spinning sensation, nausea, stomach pain, bloating, muscle weakness, change in the shape or location of body fat. Anaphylactic shock is rare. Ampicillin AMTSL – video Prevention Drug list – Ampicillin safedelivery://active-management-of-third-stage-labour_1487678773861/video/India%20english/Active%20management%20of%20third%20stage%20labour/prevention safedelivery://active-management-of-third-stage-labour_1487678773861/drug/ Ampicillin is not part of AMTSL – India English v136 ampicillin_1486975748548 Indications and usage of Ampicillin Ampicillin is effective to treat gram positive and negative bacterial infections Dosage for newborn: First week of life give 50 mg/kg per dose every 12 hours intravenously (IV) Week 2-4 of life give 50 mg/kg per dose every 8 hours intravenously (IV) Contraindications of Ampicillin: Allergy to penicillin Adverse reaction: Common adverse reactions are diarrhea and skin rash. Uncommon reactions are nausea, vomiting, stomatitis, glossitis, pseudomembranous colitis, lowered platelets, anaemia, and urticaria. Anaphylactic shock is rare. Gentamicin AMTSL – video Prevention Drug list – Gentamicin safedelivery://active-management-of-third-stage-labour_1487678773861/video/India%20english/Active%20management%20of%20third%20stage%20labour/prevention safedelivery://active-management-of-third-stage-labour_1487678773861/drug/ Gentamicin is not part of AMTSL – India English v136 gentamicin_1487679704293 Indications and usage of Gentamicin Gentamicin is indicated for treatment of severe or serious bacterial infections. Dosage for newborn: Weight below 2,5 kg: 3-4 mg/kg every 24 hours IM or IV. Weight above 2,5 kg: 2,5 mg/kg every 12 hours for term and 1,5 mg/kg every 2 hours for preterm IM or IV. Treat for at least two days. Contraindications of Gentamicin: Allergy to aminoglycosides Treatment should not be more than 3 days if there is renal failure (oliguria or elevated creatinine). Adverse reactions of Gentamicin: Common adverse reaction are kidney affection, hearing loss, and tinnitus. Uncommon reactions are liver affection, increased or lowered blood pressure, respiratory depression, lowered platelets, joint and muscle ache, skin rash, visual disturbances, itching, urticaria. Rare reactions: deafness, hair loss, low urine production, and necrosis of the skin.')]"
      ]
     },
     "execution_count": 13,
     "metadata": {},
     "output_type": "execute_result"
    }
   ],
   "source": [
    "docs"
   ]
  },
  {
   "cell_type": "code",
   "execution_count": 14,
   "id": "df47c556",
   "metadata": {},
   "outputs": [
    {
     "name": "stdout",
     "output_type": "stream",
     "text": [
      "Split 1 documents into 10 chunks\n",
      "\n",
      "Example chunk: Newborn Management within AMTSL – Segmented content with location in the SDA...\n",
      "Metadata: {'source': '..\\\\data\\\\word\\\\AMTSL (Newborn Management) .docx', 'file_type': 'word'}\n"
     ]
    }
   ],
   "source": [
    "def split_documents(documents, chunk_size=1000, chunk_overlap=200):\n",
    "    text_splitter = RecursiveCharacterTextSplitter(\n",
    "        chunk_size=chunk_size,\n",
    "        chunk_overlap=chunk_overlap,\n",
    "        length_function=len,\n",
    "        separators=[\"\\n\\n\", \"\\n\", \" \", \"\"]\n",
    "    )\n",
    "    split_docs = text_splitter.split_documents(documents)\n",
    "    print(f\"Split {len(documents)} documents into {len(split_docs)} chunks\")\n",
    "    \n",
    "    if split_docs:\n",
    "        print(f\"\\nExample chunk: {split_docs[0].page_content[:200]}...\")\n",
    "        print(f\"Metadata: {split_docs[0].metadata}\")\n",
    "    \n",
    "    return split_docs\n",
    "\n",
    "chunks = split_documents(docs)"
   ]
  },
  {
   "cell_type": "code",
   "execution_count": 16,
   "id": "69bdecb2",
   "metadata": {},
   "outputs": [],
   "source": [
    "import numpy as np\n",
    "from sentence_transformers import SentenceTransformer\n",
    "import chromadb\n",
    "from chromadb.config import Settings\n",
    "import uuid\n",
    "from typing import List, Dict, Tuple, Any\n",
    "from sklearn.metrics.pairwise import cosine_similarity"
   ]
  },
  {
   "cell_type": "code",
   "execution_count": 17,
   "id": "89beec2b",
   "metadata": {},
   "outputs": [
    {
     "name": "stdout",
     "output_type": "stream",
     "text": [
      "Model 'all-MiniLM-L6-v2' loaded. Dimension: 384\n"
     ]
    }
   ],
   "source": [
    "class EmbeddingManager:\n",
    "    def __init__(self, model_name=\"all-MiniLM-L6-v2\"):\n",
    "        self.model_name = model_name\n",
    "        self.model = SentenceTransformer(self.model_name)\n",
    "        print(f\"Model '{self.model_name}' loaded. Dimension: {self.model.get_sentence_embedding_dimension()}\")\n",
    "        \n",
    "    def generate_embedding(self, texts: list):\n",
    "        return self.model.encode(texts, show_progress_bar=True)\n",
    "    \n",
    "embedding_manager = EmbeddingManager()"
   ]
  },
  {
   "cell_type": "markdown",
   "id": "c8011f59",
   "metadata": {},
   "source": [
    "### Vector Store"
   ]
  },
  {
   "cell_type": "code",
   "execution_count": 18,
   "id": "7fbbf470",
   "metadata": {},
   "outputs": [
    {
     "name": "stdout",
     "output_type": "stream",
     "text": [
      "ChromaDB collection 'word_documents' initialized successfully.\n",
      "Existing number of documents in the collection: 0\n"
     ]
    },
    {
     "data": {
      "text/plain": [
       "<__main__.VectorStore at 0x23b21d03cb0>"
      ]
     },
     "execution_count": 18,
     "metadata": {},
     "output_type": "execute_result"
    }
   ],
   "source": [
    "from typing import List, Any\n",
    "import numpy as np\n",
    "import os\n",
    "import uuid\n",
    "import chromadb\n",
    "\n",
    "class VectorStore:\n",
    "    \"\"\"Manages document embeddings in a chromaDB vector store.\"\"\"\n",
    "    \n",
    "    def __init__(self, collection_name: str= 'word_documents', persist_directory: str = \"../data/vector_store\"):\n",
    "        \n",
    "        \"\"\"Initialize the VectorStore with ChromaDB.\n",
    "        Args:\n",
    "            collection_name (str): Name of the ChromaDB collection.\n",
    "            persist_directory (str): Directory to persist the ChromaDB data.\n",
    "        \"\"\"\n",
    "        self.collection_name = collection_name\n",
    "        self.persist_directory = persist_directory\n",
    "        self.client = None\n",
    "        self.collection = None\n",
    "        self._initialize_store()\n",
    "        \n",
    "    def _initialize_store(self):\n",
    "        \"\"\"Initialize ChromaDB client and collection.\"\"\"\n",
    "        try:\n",
    "            #Create persistent chromadb client'\n",
    "            os.makedirs(self.persist_directory, exist_ok=True)\n",
    "            self.client = chromadb.PersistentClient(path=self.persist_directory)\n",
    "            \n",
    "            #Get or create collection\n",
    "            self.collection = self.client.get_or_create_collection(name=self.collection_name, metadata={\"description\": \"Document embeddings collection\"})\n",
    "            print(f\"ChromaDB collection '{self.collection_name}' initialized successfully.\")\n",
    "            print(f\"Existing number of documents in the collection: {self.collection.count()}\")\n",
    "            \n",
    "        except Exception as e:\n",
    "            print(f\"Error initializing ChromaDB: {e}\")\n",
    "            raise\n",
    "        \n",
    "    def add_documents(self, documents: List[Any], embeddings: np.ndarray):\n",
    "            \"\"\"\n",
    "            Add documents and their embeddings to the vector store\n",
    "            \n",
    "            Args:\n",
    "                documents: List of LangChain documents\n",
    "                embeddings: Corresponding embeddings for the documents\n",
    "            \"\"\"\n",
    "            if len(documents) != len(embeddings):\n",
    "                raise ValueError(\"Number of documents must match number of embeddings\")\n",
    "            \n",
    "            print(f\"Adding {len(documents)} documents to vector store...\")\n",
    "            \n",
    "            # Prepare data for ChromaDB\n",
    "            ids = []\n",
    "            metadatas = []\n",
    "            documents_text = []\n",
    "            embeddings_list = []\n",
    "            \n",
    "            for i, (doc, embedding) in enumerate(zip(documents, embeddings)):\n",
    "                # Generate unique ID\n",
    "                doc_id = f\"doc_{uuid.uuid4().hex[:8]}_{i}\"\n",
    "                ids.append(doc_id)\n",
    "                \n",
    "                # Prepare metadata\n",
    "                metadata = dict(doc.metadata)\n",
    "                metadata['doc_index'] = i\n",
    "                metadata['content_length'] = len(doc.page_content)\n",
    "                metadatas.append(metadata)\n",
    "                \n",
    "                # Document content\n",
    "                documents_text.append(doc.page_content)\n",
    "                \n",
    "                # Embedding\n",
    "                embeddings_list.append(embedding.tolist())\n",
    "            \n",
    "            # Add to collection\n",
    "            try:\n",
    "                self.collection.add(\n",
    "                    ids=ids,\n",
    "                    embeddings=embeddings_list,\n",
    "                    metadatas=metadatas,\n",
    "                    documents=documents_text\n",
    "                )\n",
    "                print(f\"Successfully added {len(documents)} documents to vector store\")\n",
    "                print(f\"Total documents in collection: {self.collection.count()}\")\n",
    "                \n",
    "            except Exception as e:\n",
    "                print(f\"Error adding documents to vector store: {e}\")\n",
    "                raise\n",
    "\n",
    "vectorstore=VectorStore()\n",
    "vectorstore"
   ]
  },
  {
   "cell_type": "code",
   "execution_count": 19,
   "id": "e38fddd2",
   "metadata": {},
   "outputs": [
    {
     "name": "stderr",
     "output_type": "stream",
     "text": [
      "100%|██████████| 1/1 [00:00<00:00, 11.04it/s]\n"
     ]
    },
    {
     "name": "stdout",
     "output_type": "stream",
     "text": [
      "Loaded 1 Word documents\n",
      "10 chunks ready for embeddings\n"
     ]
    },
    {
     "name": "stderr",
     "output_type": "stream",
     "text": [
      "Batches: 100%|██████████| 1/1 [00:00<00:00,  3.08it/s]"
     ]
    },
    {
     "name": "stdout",
     "output_type": "stream",
     "text": [
      "Adding 10 documents to vector store...\n",
      "Successfully added 10 documents to vector store\n",
      "Total documents in collection: 10\n"
     ]
    },
    {
     "name": "stderr",
     "output_type": "stream",
     "text": [
      "\n"
     ]
    }
   ],
   "source": [
    "def load_word_documents(word_dir: str):\n",
    "    loader = DirectoryLoader(\n",
    "        word_dir,\n",
    "        glob=\"**/*.docx\",\n",
    "        loader_cls=UnstructuredWordDocumentLoader,\n",
    "        show_progress=True,\n",
    "    )\n",
    "    docs = loader.load()\n",
    "    \n",
    "    for doc in docs:\n",
    "        doc.metadata['file_type'] = 'word'\n",
    "    \n",
    "    print(f\"Loaded {len(docs)} Word documents\")\n",
    "    return docs\n",
    "\n",
    "docs = load_word_documents(\"../data/word\")\n",
    "\n",
    "# --------------------------\n",
    "# 2. Split into chunks\n",
    "# --------------------------\n",
    "splitter = RecursiveCharacterTextSplitter(chunk_size=1000, chunk_overlap=200)\n",
    "chunks = splitter.split_documents(docs)\n",
    "print(f\"{len(chunks)} chunks ready for embeddings\")\n",
    "\n",
    "# --------------------------\n",
    "# 3. Generate embeddings\n",
    "# --------------------------\n",
    "texts = [chunk.page_content for chunk in chunks]\n",
    "embeddings = embedding_manager.generate_embedding(texts)\n",
    "\n",
    "# --------------------------\n",
    "# 4. Store in VectorStore\n",
    "# --------------------------\n",
    "vectorstore.add_documents(chunks, embeddings)"
   ]
  },
  {
   "cell_type": "code",
   "execution_count": 20,
   "id": "4459415c",
   "metadata": {},
   "outputs": [
    {
     "data": {
      "text/plain": [
       "[Document(metadata={'source': '..\\\\data\\\\word\\\\AMTSL (Newborn Management) .docx', 'file_type': 'word'}, page_content='Newborn Management within AMTSL – Segmented content with location in the SDA'),\n",
       " Document(metadata={'source': '..\\\\data\\\\word\\\\AMTSL (Newborn Management) .docx', 'file_type': 'word'}, page_content='No Content (this is additional information on newborn care to the already prepared AMTSL material) Location in SDA Immediate newborn care AMTSL – video – Assess the Newborn AMTSL – Initial Care safedelivery://active-management-of-third-stage-labour_1487678773861/video/India%20english/Active%20management%20of%20third%20stage%20labour/assess_the_baby safedelivery://active-management-of-third-stage-labour_1487678773861/video/India%20english/Active%20management%20of%20third%20stage%20labour/initial_care_of_the_newborn Start a clock or note down the time. At delivery dry and stimulate the newborn. While you dry the baby with a clean towel, make sure that the baby is breathing regularly, has good colour with pink lips and tongue, and is moving its arms and legs with a good tone. Keep the baby warm by skin to skin contact with the mother. Cover with a blanket and put on a cap and place the baby on mother’s abdomen in prone position Monitor the newborn closely. Do not suction the airway'),\n",
       " Document(metadata={'source': '..\\\\data\\\\word\\\\AMTSL (Newborn Management) .docx', 'file_type': 'word'}, page_content='warm by skin to skin contact with the mother. Cover with a blanket and put on a cap and place the baby on mother’s abdomen in prone position Monitor the newborn closely. Do not suction the airway unless the baby is not breathing and there is thick meconium. If not crying well or having breathing difficulties   proceed to neonatal resuscitation. Benefits of early breastfeeding / advantages of initiating breastfeeding early. AMTSL – video – Early breastfeeding safedelivery://active-management-of-third-stage-labour_1487678773861/video/India%20english/Active%20management%20of%20third%20stage%20labour/early_breastfeeding Initiate breast feeding as early as possible. Early breastfeeding will also stimulate the uterus to contract. It will also help the baby to fully inflate the lungs, provide important nutrition and strengthen its immune system. Prevention of Complications in the Newborn AMTSL-video Prevention AMTSL – Action Card – Prevention'),\n",
       " Document(metadata={'source': '..\\\\data\\\\word\\\\AMTSL (Newborn Management) .docx', 'file_type': 'word'}, page_content='the baby to fully inflate the lungs, provide important nutrition and strengthen its immune system. Prevention of Complications in the Newborn AMTSL-video Prevention AMTSL – Action Card – Prevention safedelivery://active-management-of-third-stage-labour_1487678773861/video/India%20english/Active%20management%20of%20third%20stage%20labour/prevention safedelivery://active-management-of-third-stage-labour_1487678773861/ac/prevention_1486813119229 Some severe complications in the newborn are preventable. Prevention of Respiratory Distress in Preterm Labour To prevent respiratory distress in newborns at preterm labour between 24 and 34 gestational weeks or estimated birth weight below 2 kg give the mother dexamethasone 6 mg deep IM four times 12 hours apart Prevention of newborn infections To prevent severe newborn infections, give antibiotics to the mother if: -  membranes rupture before gestational weeks 37 or more than 18 hours before delivery OR -  fever is higher 38˚C before or during'),\n",
       " Document(metadata={'source': '..\\\\data\\\\word\\\\AMTSL (Newborn Management) .docx', 'file_type': 'word'}, page_content='severe newborn infections, give antibiotics to the mother if: -  membranes rupture before gestational weeks 37 or more than 18 hours before delivery OR -  fever is higher 38˚C before or during delivery OR -  amniotic fluid is purulent or foul-smelling OR - she has documented colonization with Group B Streptococcus. Give the mother Ampicillin 2 g IV every 6 hour. After delivery also give the newborn Ampicillin 50 mg per kg IV or IM twice daily and Gentamicin 5 mg per kg IV or IM once daily for at least seven days. Prevention and treatment of low blood sugar Prevent and treat low blood sugar by Early feeding (start within 30 minutes of birth, feed every 2nd hour) Keep warm by skin to skin contact to the mother If unable to suck give expressed milk 10 ml/kg in a cup/paladai or by orogastric tube. If not possible or the newborn vomits give Glucose 10% 5 ml/kg/hour IV. Monitor closely for emergency signs Dexamethasone AMTSL – video Prevention Drug list – Dexamethasone'),\n",
       " Document(metadata={'source': '..\\\\data\\\\word\\\\AMTSL (Newborn Management) .docx', 'file_type': 'word'}, page_content='or by orogastric tube. If not possible or the newborn vomits give Glucose 10% 5 ml/kg/hour IV. Monitor closely for emergency signs Dexamethasone AMTSL – video Prevention Drug list – Dexamethasone safedelivery://active-management-of-third-stage-labour_1487678773861/video/India%20english/Active%20management%20of%20third%20stage%20labour/prevention safedelivery://active-management-of-third-stage-labour_1487678773861/drug/ dexamethasone_1487101787771 Use of Dexamethasone For lung maturation and prevention of respiratory distress of the newborn in preterm labor between 24 to 34 weeks gestation. Indications of Dexamethasone For conditions that lead to imminent preterm delivery: Antepartum haemorrhage Preterm rupture of membranes Severe pre-eclampsia/eclampsia Dosage and Administration 6 mg intramuscularly (IM), four doses, 12 hours apart each Contraindications Frank chorioamnionitis Following signs and symptoms in the women that suggest  Frank chorioamnionitis: History of fever and lower'),\n",
       " Document(metadata={'source': '..\\\\data\\\\word\\\\AMTSL (Newborn Management) .docx', 'file_type': 'word'}, page_content='(IM), four doses, 12 hours apart each Contraindications Frank chorioamnionitis Following signs and symptoms in the women that suggest  Frank chorioamnionitis: History of fever and lower abdominal pain Foul smelling discharge, tachycardia, and tender uterus Foetal tachycardia Adverse reactions of Dexamethasone Vision changes, swelling, rapid weight gain, sleep problems, mood changes, acne, dry skin, thinning skin, bruising or discoloration, slow wound healing, increased sweating, headache, dizziness, spinning sensation, nausea, stomach pain, bloating, muscle weakness, change in the shape or location of body fat. Anaphylactic shock is rare. Ampicillin AMTSL – video Prevention Drug list – Ampicillin safedelivery://active-management-of-third-stage-labour_1487678773861/video/India%20english/Active%20management%20of%20third%20stage%20labour/prevention safedelivery://active-management-of-third-stage-labour_1487678773861/drug/ Ampicillin is not part of AMTSL – India English v136'),\n",
       " Document(metadata={'source': '..\\\\data\\\\word\\\\AMTSL (Newborn Management) .docx', 'file_type': 'word'}, page_content='safedelivery://active-management-of-third-stage-labour_1487678773861/drug/ Ampicillin is not part of AMTSL – India English v136 ampicillin_1486975748548 Indications and usage of Ampicillin Ampicillin is effective to treat gram positive and negative bacterial infections Dosage for newborn: First week of life give 50 mg/kg per dose every 12 hours intravenously (IV) Week 2-4 of life give 50 mg/kg per dose every 8 hours intravenously (IV) Contraindications of Ampicillin: Allergy to penicillin Adverse reaction: Common adverse reactions are diarrhea and skin rash. Uncommon reactions are nausea, vomiting, stomatitis, glossitis, pseudomembranous colitis, lowered platelets, anaemia, and urticaria. Anaphylactic shock is rare. Gentamicin AMTSL – video Prevention Drug list – Gentamicin safedelivery://active-management-of-third-stage-labour_1487678773861/video/India%20english/Active%20management%20of%20third%20stage%20labour/prevention'),\n",
       " Document(metadata={'source': '..\\\\data\\\\word\\\\AMTSL (Newborn Management) .docx', 'file_type': 'word'}, page_content='AMTSL – video Prevention Drug list – Gentamicin safedelivery://active-management-of-third-stage-labour_1487678773861/video/India%20english/Active%20management%20of%20third%20stage%20labour/prevention safedelivery://active-management-of-third-stage-labour_1487678773861/drug/ Gentamicin is not part of AMTSL – India English v136 gentamicin_1487679704293 Indications and usage of Gentamicin Gentamicin is indicated for treatment of severe or serious bacterial infections. Dosage for newborn: Weight below 2,5 kg: 3-4 mg/kg every 24 hours IM or IV. Weight above 2,5 kg: 2,5 mg/kg every 12 hours for term and 1,5 mg/kg every 2 hours for preterm IM or IV. Treat for at least two days. Contraindications of Gentamicin: Allergy to aminoglycosides Treatment should not be more than 3 days if there is renal failure (oliguria or elevated creatinine). Adverse reactions of Gentamicin: Common adverse reaction are kidney affection, hearing loss, and tinnitus. Uncommon reactions are liver affection, increased'),\n",
       " Document(metadata={'source': '..\\\\data\\\\word\\\\AMTSL (Newborn Management) .docx', 'file_type': 'word'}, page_content='failure (oliguria or elevated creatinine). Adverse reactions of Gentamicin: Common adverse reaction are kidney affection, hearing loss, and tinnitus. Uncommon reactions are liver affection, increased or lowered blood pressure, respiratory depression, lowered platelets, joint and muscle ache, skin rash, visual disturbances, itching, urticaria. Rare reactions: deafness, hair loss, low urine production, and necrosis of the skin.')]"
      ]
     },
     "execution_count": 20,
     "metadata": {},
     "output_type": "execute_result"
    }
   ],
   "source": [
    "chunks "
   ]
  },
  {
   "cell_type": "code",
   "execution_count": 21,
   "id": "0c6e717c",
   "metadata": {},
   "outputs": [
    {
     "name": "stderr",
     "output_type": "stream",
     "text": [
      "Batches: 100%|██████████| 1/1 [00:00<00:00,  6.34it/s]"
     ]
    },
    {
     "name": "stdout",
     "output_type": "stream",
     "text": [
      "Adding 10 documents to vector store...\n",
      "Successfully added 10 documents to vector store\n",
      "Total documents in collection: 20\n"
     ]
    },
    {
     "name": "stderr",
     "output_type": "stream",
     "text": [
      "\n"
     ]
    }
   ],
   "source": [
    "### Converting chunks to embeddings and adding to vector store\n",
    "\n",
    "texts = [doc.page_content for doc in chunks]\n",
    "\n",
    "## Generate embeddings for the chunks\n",
    "embeddings = embedding_manager.generate_embedding(texts)\n",
    "\n",
    "### Store in the vector store\n",
    "vectorstore.add_documents(chunks, embeddings)\n"
   ]
  },
  {
   "cell_type": "markdown",
   "id": "c12c11e3",
   "metadata": {},
   "source": [
    "## Retriever pipeline from vectorStore"
   ]
  },
  {
   "cell_type": "code",
   "execution_count": 22,
   "id": "19bef275",
   "metadata": {},
   "outputs": [],
   "source": [
    "class RAGRetriever:\n",
    "    \"\"\"Retrieval-Augmented Generation (RAG) retriever using ChromaDB.\"\"\"\n",
    "    \n",
    "    def __init__(self, vector_store: VectorStore, embedding_manager: EmbeddingManager):\n",
    "        \"\"\"\n",
    "        Initialize the RAG retriever.\n",
    "        \n",
    "        Args:\n",
    "            vector_store (VectorStore): The vector store instance to use for retrieval.\n",
    "            embedding_manager (EmbeddingManager): The embedding manager instance to generate embeddings.\n",
    "        \"\"\"\n",
    "        self.vector_store = vector_store\n",
    "        self.embedding_manager = embedding_manager\n",
    "        \n",
    "        \n",
    "    def retrieve(self, query: str, top_k: int = 5, score_threshold: float = 0.0) -> List[Dict[str, Any]]:\n",
    "        \"\"\"\n",
    "        Retrieve relevant documents for a query\n",
    "        \n",
    "        Args:\n",
    "            query: The search query\n",
    "            top_k: Number of top results to return\n",
    "            score_threshold: Minimum similarity score threshold\n",
    "            \n",
    "        Returns:\n",
    "            List of dictionaries containing retrieved documents and metadata\n",
    "        \"\"\"\n",
    "        print(f\"Retrieving documents for query: '{query}'\")\n",
    "        print(f\"Top K: {top_k}, Score threshold: {score_threshold}\")\n",
    "        \n",
    "        # Generate query embedding\n",
    "        query_embedding = self.embedding_manager.generate_embedding([query])[0]\n",
    "        \n",
    "        # Search in vector store\n",
    "        try:\n",
    "            results = self.vector_store.collection.query(\n",
    "                query_embeddings=[query_embedding.tolist()],\n",
    "                n_results=top_k\n",
    "            )\n",
    "            \n",
    "            # Process results\n",
    "            retrieved_docs = []\n",
    "            \n",
    "            if results['documents'] and results['documents'][0]:\n",
    "                documents = results['documents'][0]\n",
    "                metadatas = results['metadatas'][0]\n",
    "                distances = results['distances'][0]\n",
    "                ids = results['ids'][0]\n",
    "                \n",
    "                for i, (doc_id, document, metadata, distance) in enumerate(zip(ids, documents, metadatas, distances)):\n",
    "                    # Convert distance to similarity score (ChromaDB uses cosine distance)\n",
    "                    similarity_score = 1 - distance\n",
    "                    \n",
    "                    if similarity_score >= score_threshold:\n",
    "                        retrieved_docs.append({\n",
    "                            'id': doc_id,\n",
    "                            'content': document,\n",
    "                            'metadata': metadata,\n",
    "                            'similarity_score': similarity_score,\n",
    "                            'distance': distance,\n",
    "                            'rank': i + 1\n",
    "                        })\n",
    "                \n",
    "                print(f\"Retrieved {len(retrieved_docs)} documents (after filtering)\")\n",
    "            else:\n",
    "                print(\"No documents found\")\n",
    "            \n",
    "            return retrieved_docs\n",
    "            \n",
    "        except Exception as e:\n",
    "            print(f\"Error during retrieval: {e}\")\n",
    "            return []\n",
    "\n",
    "rag_retriever=RAGRetriever(vectorstore,embedding_manager)\n",
    "        "
   ]
  },
  {
   "cell_type": "code",
   "execution_count": 23,
   "id": "922afb28",
   "metadata": {},
   "outputs": [
    {
     "data": {
      "text/plain": [
       "<__main__.RAGRetriever at 0x23b21e26270>"
      ]
     },
     "execution_count": 23,
     "metadata": {},
     "output_type": "execute_result"
    }
   ],
   "source": [
    "rag_retriever"
   ]
  },
  {
   "cell_type": "code",
   "execution_count": 30,
   "id": "ca28aaf9",
   "metadata": {},
   "outputs": [
    {
     "name": "stdout",
     "output_type": "stream",
     "text": [
      "Retrieving documents for query: 'What are the primary methods to prevent and treat low blood sugar in a newborn?'\n",
      "Top K: 5, Score threshold: 0.0\n"
     ]
    },
    {
     "name": "stderr",
     "output_type": "stream",
     "text": [
      "Batches:   0%|          | 0/1 [00:00<?, ?it/s]"
     ]
    },
    {
     "name": "stderr",
     "output_type": "stream",
     "text": [
      "Batches: 100%|██████████| 1/1 [00:00<00:00, 15.68it/s]"
     ]
    },
    {
     "name": "stdout",
     "output_type": "stream",
     "text": [
      "Retrieved 2 documents (after filtering)\n"
     ]
    },
    {
     "name": "stderr",
     "output_type": "stream",
     "text": [
      "\n"
     ]
    },
    {
     "data": {
      "text/plain": [
       "[{'id': 'doc_502a5dbd_4',\n",
       "  'content': 'severe newborn infections, give antibiotics to the mother if: -  membranes rupture before gestational weeks 37 or more than 18 hours before delivery OR -  fever is higher 38˚C before or during delivery OR -  amniotic fluid is purulent or foul-smelling OR - she has documented colonization with Group B Streptococcus. Give the mother Ampicillin 2 g IV every 6 hour. After delivery also give the newborn Ampicillin 50 mg per kg IV or IM twice daily and Gentamicin 5 mg per kg IV or IM once daily for at least seven days. Prevention and treatment of low blood sugar Prevent and treat low blood sugar by Early feeding (start within 30 minutes of birth, feed every 2nd hour) Keep warm by skin to skin contact to the mother If unable to suck give expressed milk 10 ml/kg in a cup/paladai or by orogastric tube. If not possible or the newborn vomits give Glucose 10% 5 ml/kg/hour IV. Monitor closely for emergency signs Dexamethasone AMTSL – video Prevention Drug list – Dexamethasone',\n",
       "  'metadata': {'file_type': 'word',\n",
       "   'content_length': 977,\n",
       "   'doc_index': 4,\n",
       "   'source': '..\\\\data\\\\word\\\\AMTSL (Newborn Management) .docx'},\n",
       "  'similarity_score': 0.3017861843109131,\n",
       "  'distance': 0.6982138156890869,\n",
       "  'rank': 1},\n",
       " {'id': 'doc_bcc73271_4',\n",
       "  'content': 'severe newborn infections, give antibiotics to the mother if: -  membranes rupture before gestational weeks 37 or more than 18 hours before delivery OR -  fever is higher 38˚C before or during delivery OR -  amniotic fluid is purulent or foul-smelling OR - she has documented colonization with Group B Streptococcus. Give the mother Ampicillin 2 g IV every 6 hour. After delivery also give the newborn Ampicillin 50 mg per kg IV or IM twice daily and Gentamicin 5 mg per kg IV or IM once daily for at least seven days. Prevention and treatment of low blood sugar Prevent and treat low blood sugar by Early feeding (start within 30 minutes of birth, feed every 2nd hour) Keep warm by skin to skin contact to the mother If unable to suck give expressed milk 10 ml/kg in a cup/paladai or by orogastric tube. If not possible or the newborn vomits give Glucose 10% 5 ml/kg/hour IV. Monitor closely for emergency signs Dexamethasone AMTSL – video Prevention Drug list – Dexamethasone',\n",
       "  'metadata': {'file_type': 'word',\n",
       "   'content_length': 977,\n",
       "   'source': '..\\\\data\\\\word\\\\AMTSL (Newborn Management) .docx',\n",
       "   'doc_index': 4},\n",
       "  'similarity_score': 0.3017861843109131,\n",
       "  'distance': 0.6982138156890869,\n",
       "  'rank': 2}]"
      ]
     },
     "execution_count": 30,
     "metadata": {},
     "output_type": "execute_result"
    }
   ],
   "source": [
    "results = rag_retriever.retrieve(\"What are the primary methods to prevent and treat low blood sugar in a newborn?\")\n",
    "results"
   ]
  },
  {
   "cell_type": "markdown",
   "id": "3379cc7c",
   "metadata": {},
   "source": [
    "### RAG with groq LLM\n"
   ]
  },
  {
   "cell_type": "code",
   "execution_count": 31,
   "id": "959616f6",
   "metadata": {},
   "outputs": [],
   "source": [
    "from langchain_groq import ChatGroq\n",
    "import  os\n",
    "from dotenv import load_dotenv\n",
    "load_dotenv()\n",
    "\n",
    "\n",
    "### Initialize Groq LLM\n",
    "groq_api_key = os.getenv(\"GROQ_API_KEY\")\n",
    "\n",
    "llm= ChatGroq(groq_api_key=groq_api_key, model=\"gemma2-9b-it\", temperature=0.1, max_tokens=1024)\n"
   ]
  },
  {
   "cell_type": "code",
   "execution_count": 32,
   "id": "08d50497",
   "metadata": {},
   "outputs": [],
   "source": [
    "from langchain_groq import ChatGroq\n",
    "from langchain.prompts import PromptTemplate\n",
    "from langchain.schema import HumanMessage, SystemMessage\n",
    "\n",
    "class GroqLLM:\n",
    "    def __init__(self, model_name: str = \"gemma2-9b-it\", api_key: str =None):\n",
    "        \"\"\"\n",
    "        Initialize Groq LLM\n",
    "        \n",
    "        Args:\n",
    "            model_name: Groq model name (qwen2-72b-instruct, llama3-70b-8192, etc.)\n",
    "            api_key: Groq API key (or set GROQ_API_KEY environment variable)\n",
    "        \"\"\"\n",
    "        self.model_name = model_name\n",
    "        self.api_key = api_key or os.environ.get(\"GROQ_API_KEY\")\n",
    "        \n",
    "        if not self.api_key:\n",
    "            raise ValueError(\"Groq API key is required. Set GROQ_API_KEY environment variable or pass api_key parameter.\")\n",
    "        \n",
    "        self.llm = ChatGroq(\n",
    "            groq_api_key=self.api_key,\n",
    "            model_name=self.model_name,\n",
    "            temperature=0.1,\n",
    "            max_tokens=1024\n",
    "        )\n",
    "        \n",
    "        print(f\"Initialized Groq LLM with model: {self.model_name}\")\n",
    "\n",
    "    def generate_response(self, query: str, context: str, max_length: int = 500) -> str:\n",
    "        \"\"\"\n",
    "        Generate response using retrieved context\n",
    "        \n",
    "        Args:\n",
    "            query: User question\n",
    "            context: Retrieved document context\n",
    "            max_length: Maximum response length\n",
    "            \n",
    "        Returns:\n",
    "            Generated response string\n",
    "        \"\"\"\n",
    "        \n",
    "        # Create prompt template\n",
    "        prompt_template = PromptTemplate(\n",
    "            input_variables=[\"context\", \"question\"],\n",
    "            template=\"\"\"You are a helpful AI assistant. Use the following context to answer the question accurately and concisely.\n",
    "\n",
    "Context:\n",
    "{context}\n",
    "\n",
    "Question: {question}\n",
    "\n",
    "Answer: Provide a clear and informative answer based on the context above. If the context doesn't contain enough information to answer the question, say so.\"\"\"\n",
    "        )\n",
    "        \n",
    "        # Format the prompt\n",
    "        formatted_prompt = prompt_template.format(context=context, question=query)\n",
    "        \n",
    "        try:\n",
    "            # Generate response\n",
    "            messages = [HumanMessage(content=formatted_prompt)]\n",
    "            response = self.llm.invoke(messages)\n",
    "            return response.content\n",
    "            \n",
    "        except Exception as e:\n",
    "            return f\"Error generating response: {str(e)}\"\n",
    "        \n",
    "    def generate_response_simple(self, query: str, context: str) -> str:\n",
    "        \"\"\"\n",
    "        Simple response generation without complex prompting\n",
    "        \n",
    "        Args:\n",
    "            query: User question\n",
    "            context: Retrieved context\n",
    "            \n",
    "        Returns:\n",
    "            Generated response\n",
    "        \"\"\"\n",
    "        simple_prompt = f\"\"\"Based on this context: {context}\n",
    "\n",
    "Question: {query}\n",
    "\n",
    "Answer:\"\"\"\n",
    "        \n",
    "        try:\n",
    "            messages = [HumanMessage(content=simple_prompt)]\n",
    "            response = self.llm.invoke(messages)\n",
    "            return response.content\n",
    "        except Exception as e:\n",
    "            return f\"Error: {str(e)}\""
   ]
  },
  {
   "cell_type": "code",
   "execution_count": 33,
   "id": "0006dd1a",
   "metadata": {},
   "outputs": [
    {
     "name": "stdout",
     "output_type": "stream",
     "text": [
      "Initialized Groq LLM with model: gemma2-9b-it\n",
      "Groq LLM initialized successfully!\n"
     ]
    }
   ],
   "source": [
    "# Initialize Groq LLM (you'll need to set GROQ_API_KEY environment variable)\n",
    "try:\n",
    "    groq_llm = GroqLLM(api_key=os.getenv(\"GROQ_API_KEY\"))\n",
    "    print(\"Groq LLM initialized successfully!\")\n",
    "except ValueError as e:\n",
    "    print(f\"Warning: {e}\")\n",
    "    print(\"Please set your GROQ_API_KEY environment variable to use the LLM.\")\n",
    "    groq_llm = None"
   ]
  },
  {
   "cell_type": "code",
   "execution_count": 35,
   "id": "5cb11ff7",
   "metadata": {},
   "outputs": [
    {
     "name": "stdout",
     "output_type": "stream",
     "text": [
      "Retrieving documents for query: 'What are the primary methods to prevent and treat low blood sugar in a newborn?'\n",
      "Top K: 5, Score threshold: 0.0\n"
     ]
    },
    {
     "name": "stderr",
     "output_type": "stream",
     "text": [
      "Batches: 100%|██████████| 1/1 [00:00<00:00, 51.98it/s]"
     ]
    },
    {
     "name": "stdout",
     "output_type": "stream",
     "text": [
      "Retrieved 2 documents (after filtering)\n"
     ]
    },
    {
     "name": "stderr",
     "output_type": "stream",
     "text": [
      "\n"
     ]
    },
    {
     "data": {
      "text/plain": [
       "[{'id': 'doc_502a5dbd_4',\n",
       "  'content': 'severe newborn infections, give antibiotics to the mother if: -  membranes rupture before gestational weeks 37 or more than 18 hours before delivery OR -  fever is higher 38˚C before or during delivery OR -  amniotic fluid is purulent or foul-smelling OR - she has documented colonization with Group B Streptococcus. Give the mother Ampicillin 2 g IV every 6 hour. After delivery also give the newborn Ampicillin 50 mg per kg IV or IM twice daily and Gentamicin 5 mg per kg IV or IM once daily for at least seven days. Prevention and treatment of low blood sugar Prevent and treat low blood sugar by Early feeding (start within 30 minutes of birth, feed every 2nd hour) Keep warm by skin to skin contact to the mother If unable to suck give expressed milk 10 ml/kg in a cup/paladai or by orogastric tube. If not possible or the newborn vomits give Glucose 10% 5 ml/kg/hour IV. Monitor closely for emergency signs Dexamethasone AMTSL – video Prevention Drug list – Dexamethasone',\n",
       "  'metadata': {'file_type': 'word',\n",
       "   'doc_index': 4,\n",
       "   'content_length': 977,\n",
       "   'source': '..\\\\data\\\\word\\\\AMTSL (Newborn Management) .docx'},\n",
       "  'similarity_score': 0.3017861843109131,\n",
       "  'distance': 0.6982138156890869,\n",
       "  'rank': 1},\n",
       " {'id': 'doc_bcc73271_4',\n",
       "  'content': 'severe newborn infections, give antibiotics to the mother if: -  membranes rupture before gestational weeks 37 or more than 18 hours before delivery OR -  fever is higher 38˚C before or during delivery OR -  amniotic fluid is purulent or foul-smelling OR - she has documented colonization with Group B Streptococcus. Give the mother Ampicillin 2 g IV every 6 hour. After delivery also give the newborn Ampicillin 50 mg per kg IV or IM twice daily and Gentamicin 5 mg per kg IV or IM once daily for at least seven days. Prevention and treatment of low blood sugar Prevent and treat low blood sugar by Early feeding (start within 30 minutes of birth, feed every 2nd hour) Keep warm by skin to skin contact to the mother If unable to suck give expressed milk 10 ml/kg in a cup/paladai or by orogastric tube. If not possible or the newborn vomits give Glucose 10% 5 ml/kg/hour IV. Monitor closely for emergency signs Dexamethasone AMTSL – video Prevention Drug list – Dexamethasone',\n",
       "  'metadata': {'file_type': 'word',\n",
       "   'source': '..\\\\data\\\\word\\\\AMTSL (Newborn Management) .docx',\n",
       "   'doc_index': 4,\n",
       "   'content_length': 977},\n",
       "  'similarity_score': 0.3017861843109131,\n",
       "  'distance': 0.6982138156890869,\n",
       "  'rank': 2}]"
      ]
     },
     "execution_count": 35,
     "metadata": {},
     "output_type": "execute_result"
    }
   ],
   "source": [
    "### get the context from the retriever and pass it to the LLM\n",
    "\n",
    "rag_retriever.retrieve(\"What are the primary methods to prevent and treat low blood sugar in a newborn?\")"
   ]
  },
  {
   "cell_type": "code",
   "execution_count": 36,
   "id": "8eb24126",
   "metadata": {},
   "outputs": [],
   "source": [
    "### Simple RAG pipeline with Groq LLM\n",
    "from langchain_groq import ChatGroq\n",
    "import os\n",
    "from dotenv import load_dotenv\n",
    "load_dotenv()\n",
    "\n",
    "### Initialize the Groq LLM (set your GROQ_API_KEY in environment)\n",
    "groq_api_key = os.getenv(\"GROQ_API_KEY\")\n",
    "\n",
    "llm=ChatGroq(groq_api_key=groq_api_key,model_name=\"gemma2-9b-it\",temperature=0.1,max_tokens=1024)\n",
    "\n",
    "## 2. Simple RAG function: retrieve context + generate response\n",
    "def rag_simple(query,retriever,llm,top_k=3):\n",
    "    ## retriever the context\n",
    "    results=retriever.retrieve(query,top_k=top_k)\n",
    "    context=\"\\n\\n\".join([doc['content'] for doc in results]) if results else \"\"\n",
    "    if not context:\n",
    "        return \"No relevant context found to answer the question.\"\n",
    "    \n",
    "    ## generate the answwer using GROQ LLM\n",
    "    prompt=f\"\"\"Use the following context to answer the question concisely.\n",
    "        Context:\n",
    "        {context}\n",
    "\n",
    "        Question: {query}\n",
    "\n",
    "        Answer:\"\"\"\n",
    "    \n",
    "    response=llm.invoke([prompt.format(context=context,query=query)])\n",
    "    return response.content"
   ]
  },
  {
   "cell_type": "code",
   "execution_count": 37,
   "id": "5f607b8b",
   "metadata": {},
   "outputs": [
    {
     "name": "stdout",
     "output_type": "stream",
     "text": [
      "Retrieving documents for query: 'What are the primary methods to prevent and treat low blood sugar in a newborn?'\n",
      "Top K: 3, Score threshold: 0.0\n"
     ]
    },
    {
     "name": "stderr",
     "output_type": "stream",
     "text": [
      "Batches: 100%|██████████| 1/1 [00:00<00:00, 70.18it/s]"
     ]
    },
    {
     "name": "stdout",
     "output_type": "stream",
     "text": [
      "Retrieved 2 documents (after filtering)\n"
     ]
    },
    {
     "name": "stderr",
     "output_type": "stream",
     "text": [
      "\n"
     ]
    },
    {
     "name": "stdout",
     "output_type": "stream",
     "text": [
      "Early feeding (within 30 minutes of birth, every 2 hours), keeping the baby warm with skin-to-skin contact, and providing expressed breast milk or glucose solution if the baby can't suck.  \n",
      "\n"
     ]
    }
   ],
   "source": [
    "answer=rag_simple(\"What are the primary methods to prevent and treat low blood sugar in a newborn?\",rag_retriever,llm)\n",
    "print(answer)"
   ]
  },
  {
   "cell_type": "code",
   "execution_count": 39,
   "id": "ab932d41",
   "metadata": {},
   "outputs": [
    {
     "name": "stdout",
     "output_type": "stream",
     "text": [
      "Retrieving documents for query: 'What are the primary methods to prevent and treat low blood sugar in a newborn?'\n",
      "Top K: 3, Score threshold: 0.1\n"
     ]
    },
    {
     "name": "stderr",
     "output_type": "stream",
     "text": [
      "Batches: 100%|██████████| 1/1 [00:00<00:00, 76.06it/s]"
     ]
    },
    {
     "name": "stdout",
     "output_type": "stream",
     "text": [
      "Retrieved 2 documents (after filtering)\n"
     ]
    },
    {
     "name": "stderr",
     "output_type": "stream",
     "text": [
      "\n"
     ]
    },
    {
     "name": "stdout",
     "output_type": "stream",
     "text": [
      "Answer: Early feeding (within 30 minutes of birth, every 2 hours), keeping the newborn warm through skin-to-skin contact with the mother, and providing expressed breast milk or glucose solution if the newborn is unable to suck.  \n",
      "\n",
      "Sources: [{'source': '..\\\\data\\\\word\\\\AMTSL (Newborn Management) .docx', 'page': 'unknown', 'score': 0.3017861843109131, 'preview': 'severe newborn infections, give antibiotics to the mother if: -  membranes rupture before gestational weeks 37 or more than 18 hours before delivery OR -  fever is higher 38˚C before or during delivery OR -  amniotic fluid is purulent or foul-smelling OR - she has documented colonization with Group ...'}, {'source': '..\\\\data\\\\word\\\\AMTSL (Newborn Management) .docx', 'page': 'unknown', 'score': 0.3017861843109131, 'preview': 'severe newborn infections, give antibiotics to the mother if: -  membranes rupture before gestational weeks 37 or more than 18 hours before delivery OR -  fever is higher 38˚C before or during delivery OR -  amniotic fluid is purulent or foul-smelling OR - she has documented colonization with Group ...'}]\n",
      "Confidence: 0.3017861843109131\n",
      "Context Preview: severe newborn infections, give antibiotics to the mother if: -  membranes rupture before gestational weeks 37 or more than 18 hours before delivery OR -  fever is higher 38˚C before or during delivery OR -  amniotic fluid is purulent or foul-smelling OR - she has documented colonization with Group \n"
     ]
    }
   ],
   "source": [
    "# --- Enhanced RAG Pipeline Features ---\n",
    "def rag_advanced(query, retriever, llm, top_k=5, min_score=0.2, return_context=False):\n",
    "    \"\"\"\n",
    "    RAG pipeline with extra features:\n",
    "    - Returns answer, sources, confidence score, and optionally full context.\n",
    "    \"\"\"\n",
    "    results = retriever.retrieve(query, top_k=top_k, score_threshold=min_score)\n",
    "    if not results:\n",
    "        return {'answer': 'No relevant context found.', 'sources': [], 'confidence': 0.0, 'context': ''}\n",
    "    \n",
    "    # Prepare context and sources\n",
    "    context = \"\\n\\n\".join([doc['content'] for doc in results])\n",
    "    sources = [{\n",
    "        'source': doc['metadata'].get('source_file', doc['metadata'].get('source', 'unknown')),\n",
    "        'page': doc['metadata'].get('page', 'unknown'),\n",
    "        'score': doc['similarity_score'],\n",
    "        'preview': doc['content'][:300] + '...'\n",
    "    } for doc in results]\n",
    "    confidence = max([doc['similarity_score'] for doc in results])\n",
    "    \n",
    "    # Generate answer\n",
    "    prompt = f\"\"\"Use the following context to answer the question concisely.\\nContext:\\n{context}\\n\\nQuestion: {query}\\n\\nAnswer:\"\"\"\n",
    "    response = llm.invoke([prompt.format(context=context, query=query)])\n",
    "    \n",
    "    output = {\n",
    "        'answer': response.content,\n",
    "        'sources': sources,\n",
    "        'confidence': confidence\n",
    "    }\n",
    "    if return_context:\n",
    "        output['context'] = context\n",
    "    return output\n",
    "\n",
    "# Example usage:\n",
    "result = rag_advanced(\"What are the primary methods to prevent and treat low blood sugar in a newborn?\", rag_retriever, llm, top_k=3, min_score=0.1, return_context=True)\n",
    "print(\"Answer:\", result['answer'])\n",
    "print(\"Sources:\", result['sources'])\n",
    "print(\"Confidence:\", result['confidence'])\n",
    "print(\"Context Preview:\", result['context'][:300])"
   ]
  },
  {
   "cell_type": "code",
   "execution_count": 57,
   "id": "7f682046",
   "metadata": {},
   "outputs": [
    {
     "name": "stdout",
     "output_type": "stream",
     "text": [
      "Retrieving documents for query: 'What is the recommended dose of Ampicillin for newborn infection prevention?'\n",
      "Top K: 3, Score threshold: 0.1\n"
     ]
    },
    {
     "name": "stderr",
     "output_type": "stream",
     "text": [
      "Batches: 100%|██████████| 1/1 [00:00<00:00, 42.01it/s]"
     ]
    },
    {
     "name": "stdout",
     "output_type": "stream",
     "text": [
      "Retrieved 3 documents (after filtering)\n",
      "Streaming answer:\n",
      "Use the following context to answer the question concisely.\n",
      "Context:\n",
      "severe newborn infections, give antibiotics to the mother if: -  membranes rupture before gestational weeks 37 or more than 18 hours before delivery OR -  fever is higher 38˚C before or during delivery OR -  amniotic fluid is purulent or foul-smelling"
     ]
    },
    {
     "name": "stderr",
     "output_type": "stream",
     "text": [
      "\n"
     ]
    },
    {
     "name": "stdout",
     "output_type": "stream",
     "text": [
      " OR - she has documented colonization with Group B Streptococcus. Give the mother Ampicillin 2 g IV every 6 hour. After delivery also give the newborn Ampicillin 50 mg per kg IV or IM twice daily and Gentamicin 5 mg per kg IV or IM once daily for at least seven days. Prevention and treatment of low blood sugar Prevent and treat low blood sugar by Early feeding (start within 30 minutes of birth, feed every 2nd hour) Keep warm by skin to skin contact to the mother If unable to suck give expressed milk 10 ml/kg in a cup/paladai or by orogastric tube. If not possible or the newborn vomits give Glucose 10% 5 ml/kg/hour IV. Monitor closely for emergency signs Dexamethasone AMTSL – video Prevention Drug list – Dexamethasone\n",
      "\n",
      "severe newborn infections, give antibiotics to the mother if: -  membranes rupture before gestational weeks 37 or more than 18 hours before delivery OR -  fever is higher 38˚C before or during delivery OR -  amniotic fluid is purulent or foul-smelling OR - she has documented colonization with Group B Streptococcus. Give the mother Ampicillin 2 g IV every 6 hour. After delivery also give the newborn Ampicillin 50 mg per kg IV or IM twice daily and Gentamicin 5 mg per kg IV or IM once daily for at least seven days. Prevention and treatment of low blood sugar Prevent and treat low blood sugar by Early feeding (start within 30 minutes of birth, feed every 2nd hour) Keep warm by skin to skin contact to the mother If unable to suck give expressed milk 10 ml/kg in a cup/paladai or by orogastric tube. If not possible or the newborn vomits give Glucose 10% 5 ml/kg/hour IV. Monitor closely for emergency signs Dexamethasone AMTSL – video Prevention Drug list – Dexamethasone\n",
      "\n",
      "safedelivery://active-management-of-third-stage-labour_1487678773861/drug/ Ampicillin is not part of AMTSL – India English v136 ampicillin_1486975748548 Indications and usage of Ampicillin Ampicillin is effective to treat gram positive and negative bacterial infections Dosage for newborn: First week of life give 50 mg/kg per dose every 12 hours intravenously (IV) Week 2-4 of life give 50 mg/kg per dose every 8 hours intravenously (IV) Contraindications of Ampicillin: Allergy to penicillin Adverse reaction: Common adverse reactions are diarrhea and skin rash. Uncommon reactions are nausea, vomiting, stomatitis, glossitis, pseudomembranous colitis, lowered platelets, anaemia, and urticaria. Anaphylactic shock is rare. Gentamicin AMTSL – video Prevention Drug list – Gentamicin safedelivery://active-management-of-third-stage-labour_1487678773861/video/India%20english/Active%20management%20of%20third%20stage%20labour/prevention\n",
      "\n",
      "Question: What is the recommended dose of Ampicillin for newborn infection prevention?\n",
      "\n",
      "Answer:\n",
      "\n",
      "Final Answer: 50 mg per kg IV or IM twice daily for at least seven days.  \n",
      "\n",
      "\n",
      "Citations:\n",
      "[1] ..\\data\\word\\AMTSL (Newborn Management) .docx (page unknown)\n",
      "[2] ..\\data\\word\\AMTSL (Newborn Management) .docx (page unknown)\n",
      "[3] ..\\data\\word\\AMTSL (Newborn Management) .docx (page unknown)\n",
      "Summary: The recommended dosage is 50 milligrams per kilogram of body weight, administered intravenously or intramuscularly.  This treatment should be given twice daily for a minimum of seven days. \n",
      "\n",
      "\n",
      "\n",
      "History: {'question': 'What is the recommended dose of Ampicillin for newborn infection prevention?', 'answer': '50 mg per kg IV or IM twice daily for at least seven days.  \\n', 'sources': [{'source': '..\\\\data\\\\word\\\\AMTSL (Newborn Management) .docx', 'page': 'unknown', 'score': 0.36247456073760986, 'preview': 'severe newborn infections, give antibiotics to the mother if: -  membranes rupture before gestational weeks 37 or more t...'}, {'source': '..\\\\data\\\\word\\\\AMTSL (Newborn Management) .docx', 'page': 'unknown', 'score': 0.36247456073760986, 'preview': 'severe newborn infections, give antibiotics to the mother if: -  membranes rupture before gestational weeks 37 or more t...'}, {'source': '..\\\\data\\\\word\\\\AMTSL (Newborn Management) .docx', 'page': 'unknown', 'score': 0.28522592782974243, 'preview': 'safedelivery://active-management-of-third-stage-labour_1487678773861/drug/ Ampicillin is not part of AMTSL – India Engli...'}], 'summary': 'The recommended dosage is 50 milligrams per kilogram of body weight, administered intravenously or intramuscularly.  This treatment should be given twice daily for a minimum of seven days. \\n\\n\\n'}\n"
     ]
    }
   ],
   "source": [
    "# --- Advanced RAG Pipeline: Streaming, Citations, History, Summarization ---\n",
    "from typing import List, Dict, Any\n",
    "import time\n",
    "\n",
    "class AdvancedRAGPipeline:\n",
    "    def __init__(self, retriever, llm):\n",
    "        self.retriever = retriever\n",
    "        self.llm = llm\n",
    "        self.history = []  # Store query history\n",
    "\n",
    "    def query(self, question: str, top_k: int = 5, min_score: float = 0.2, stream: bool = False, summarize: bool = False) -> Dict[str, Any]:\n",
    "        # Retrieve relevant documents\n",
    "        results = self.retriever.retrieve(question, top_k=top_k, score_threshold=min_score)\n",
    "        if not results:\n",
    "            answer = \"No relevant context found.\"\n",
    "            sources = []\n",
    "            context = \"\"\n",
    "        else:\n",
    "            context = \"\\n\\n\".join([doc['content'] for doc in results])\n",
    "            sources = [{\n",
    "                'source': doc['metadata'].get('source_file', doc['metadata'].get('source', 'unknown')),\n",
    "                'page': doc['metadata'].get('page', 'unknown'),\n",
    "                'score': doc['similarity_score'],\n",
    "                'preview': doc['content'][:120] + '...'\n",
    "            } for doc in results]\n",
    "            # Streaming answer simulation\n",
    "            prompt = f\"\"\"Use the following context to answer the question concisely.\\nContext:\\n{context}\\n\\nQuestion: {question}\\n\\nAnswer:\"\"\"\n",
    "            if stream:\n",
    "                print(\"Streaming answer:\")\n",
    "                for i in range(0, len(prompt), 80):\n",
    "                    print(prompt[i:i+80], end='', flush=True)\n",
    "                    time.sleep(0.05)\n",
    "                print()\n",
    "            response = self.llm.invoke([prompt.format(context=context, question=question)])\n",
    "            answer = response.content\n",
    "\n",
    "        # Add citations to answer\n",
    "        citations = [f\"[{i+1}] {src['source']} (page {src['page']})\" for i, src in enumerate(sources)]\n",
    "        answer_with_citations = answer + \"\\n\\nCitations:\\n\" + \"\\n\".join(citations) if citations else answer\n",
    "\n",
    "        # Optionally summarize answer\n",
    "        summary = None\n",
    "        if summarize and answer:\n",
    "            summary_prompt = f\"Summarize the following answer in 2 sentences:\\n{answer}\"\n",
    "            summary_resp = self.llm.invoke([summary_prompt])\n",
    "            summary = summary_resp.content\n",
    "\n",
    "        # Store query history\n",
    "        self.history.append({\n",
    "            'question': question,\n",
    "            'answer': answer,\n",
    "            'sources': sources,\n",
    "            'summary': summary\n",
    "        })\n",
    "\n",
    "        return {\n",
    "            'question': question,\n",
    "            'answer': answer_with_citations,\n",
    "            'sources': sources,\n",
    "            'summary': summary,\n",
    "            'history': self.history\n",
    "        }\n",
    "\n",
    "adv_rag = AdvancedRAGPipeline(rag_retriever, llm)\n",
    "result = adv_rag.query(\"What is the recommended dose of Ampicillin for newborn infection prevention?\", top_k=3, min_score=0.1, stream=True, summarize=True)\n",
    "print(\"\\nFinal Answer:\", result['answer'])\n",
    "print(\"Summary:\", result['summary'])\n",
    "print(\"History:\", result['history'][-1])"
   ]
  }
 ],
 "metadata": {
  "kernelspec": {
   "display_name": ".venv",
   "language": "python",
   "name": "python3"
  },
  "language_info": {
   "codemirror_mode": {
    "name": "ipython",
    "version": 3
   },
   "file_extension": ".py",
   "mimetype": "text/x-python",
   "name": "python",
   "nbconvert_exporter": "python",
   "pygments_lexer": "ipython3",
   "version": "3.13.2"
  }
 },
 "nbformat": 4,
 "nbformat_minor": 5
}
